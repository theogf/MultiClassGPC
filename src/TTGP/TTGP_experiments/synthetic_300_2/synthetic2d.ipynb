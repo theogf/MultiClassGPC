{
 "cells": [
  {
   "cell_type": "markdown",
   "metadata": {},
   "source": [
    "# Generated dataset\n",
    "\n",
    "Comparison of different inducing point GP-regression methods."
   ]
  },
  {
   "cell_type": "code",
   "execution_count": 14,
   "metadata": {
    "collapsed": false
   },
   "outputs": [],
   "source": [
    "# import sys\n",
    "# sys.path.append('/Users/IzmailovPavel/Documents/Education/Projects/Course Project/Code')\n",
    "import numpy as np\n",
    "\n",
    "from GP.covariance_functions import SquaredExponential\n",
    "from GP.gaussian_process_regression import GPR"
   ]
  },
  {
   "cell_type": "code",
   "execution_count": 15,
   "metadata": {
    "collapsed": true
   },
   "outputs": [],
   "source": [
    "data_params = np.array([1.0, 0.15, 0.2])\n",
    "data_covariance_obj = SquaredExponential(data_params)"
   ]
  },
  {
   "cell_type": "code",
   "execution_count": 16,
   "metadata": {
    "collapsed": true
   },
   "outputs": [],
   "source": [
    "gp = GPR(data_covariance_obj)\n",
    "num = 300\n",
    "test_num = 100\n",
    "dim = 2\n",
    "seed = 10"
   ]
  },
  {
   "cell_type": "code",
   "execution_count": 18,
   "metadata": {
    "collapsed": false
   },
   "outputs": [],
   "source": [
    "np.random.seed(seed)\n",
    "x_tr = np.random.normal(size=(dim, num)) / 3\n",
    "x_test = np.random.normal(size=(dim, test_num)) / 3\n",
    "\n",
    "y_tr, y_test = gp.generate_data(x_tr, x_test, seed=seed)"
   ]
  },
  {
   "cell_type": "code",
   "execution_count": 20,
   "metadata": {
    "collapsed": false
   },
   "outputs": [],
   "source": [
    "np.save('data/x_tr', x_tr.T)\n",
    "np.save('data/y_tr', y_tr)\n",
    "np.save('data/x_te', x_test.T)\n",
    "np.save('data/y_te', y_test)"
   ]
  },
  {
   "cell_type": "code",
   "execution_count": 21,
   "metadata": {
    "collapsed": true
   },
   "outputs": [],
   "source": [
    "from scipy.io import savemat"
   ]
  },
  {
   "cell_type": "code",
   "execution_count": 23,
   "metadata": {
    "collapsed": false
   },
   "outputs": [],
   "source": [
    "savemat('data/data', {'x_tr': x_tr.T, 'y_tr': y_tr, 'x_te': x_test.T, 'y_te': y_test})"
   ]
  },
  {
   "cell_type": "code",
   "execution_count": null,
   "metadata": {
    "collapsed": true
   },
   "outputs": [],
   "source": []
  }
 ],
 "metadata": {
  "kernelspec": {
   "display_name": "Python 3",
   "language": "python",
   "name": "python3"
  },
  "language_info": {
   "codemirror_mode": {
    "name": "ipython",
    "version": 3
   },
   "file_extension": ".py",
   "mimetype": "text/x-python",
   "name": "python",
   "nbconvert_exporter": "python",
   "pygments_lexer": "ipython3",
   "version": "3.4.3"
  }
 },
 "nbformat": 4,
 "nbformat_minor": 0
}
