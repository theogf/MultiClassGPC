{
 "cells": [
  {
   "cell_type": "code",
   "execution_count": 1,
   "metadata": {
    "collapsed": false
   },
   "outputs": [],
   "source": [
    "import sys\n",
    "import numpy as np\n",
    "sys.path.append('/Users/IzmailovPavel/Documents/Education/Projects/Course Project/Code')\n",
    "import numpy as np\n",
    "import matplotlib as mpl\n",
    "from scipy.linalg import orth\n",
    "\n",
    "from matplotlib import pyplot as plt\n",
    "\n",
    "from GP.covariance_functions import SquaredExponential\n",
    "from GP.gaussian_process_regression import GPR\n",
    "\n",
    "from mpl_toolkits.mplot3d import Axes3D\n",
    "%matplotlib inline\n",
    "%load_ext autoreload\n",
    "%autoreload 2"
   ]
  },
  {
   "cell_type": "code",
   "execution_count": 2,
   "metadata": {
    "collapsed": true
   },
   "outputs": [],
   "source": [
    "data_params = np.array([1.0, 0.2, 0.05])\n",
    "data_covariance_obj = SquaredExponential(data_params)"
   ]
  },
  {
   "cell_type": "code",
   "execution_count": 7,
   "metadata": {
    "collapsed": true
   },
   "outputs": [],
   "source": [
    "gp = GPR(data_covariance_obj)\n",
    "num = 3000\n",
    "test_num = 500\n",
    "dim = 3\n",
    "seed = 10"
   ]
  },
  {
   "cell_type": "code",
   "execution_count": 8,
   "metadata": {
    "collapsed": false
   },
   "outputs": [],
   "source": [
    "np.random.seed(seed)\n",
    "x_tr = np.random.normal(size=(dim, num))\n",
    "if dim == 1:\n",
    "    x_test = np.linspace(0, 1, test_num)\n",
    "    x_test = x_test.reshape(1, test_num)\n",
    "else:\n",
    "    x_test = np.random.normal(size=(dim, test_num))\n",
    "\n",
    "x_tr /= 3\n",
    "x_test /= 3\n",
    "y_tr, y_test = gp.generate_data(x_tr, x_test, seed=seed)\n",
    "x_tr = x_tr.T\n",
    "x_test = x_test.T"
   ]
  },
  {
   "cell_type": "code",
   "execution_count": 10,
   "metadata": {
    "collapsed": true
   },
   "outputs": [],
   "source": [
    "d = x_tr.shape[1] # == 2\n",
    "D = 8\n",
    "P = np.random.rand(D, d)"
   ]
  },
  {
   "cell_type": "code",
   "execution_count": 12,
   "metadata": {
    "collapsed": false
   },
   "outputs": [],
   "source": [
    "P = orth(P)"
   ]
  },
  {
   "cell_type": "code",
   "execution_count": 13,
   "metadata": {
    "collapsed": false
   },
   "outputs": [],
   "source": [
    "projected = x_tr.dot(P.T)\n",
    "projected_test = x_test.dot(P.T)"
   ]
  },
  {
   "cell_type": "code",
   "execution_count": 16,
   "metadata": {
    "collapsed": true
   },
   "outputs": [],
   "source": [
    "projected += np.random.normal(scale=0.05, size=projected.shape)\n",
    "projected_test += np.random.normal(scale=0.05, size=projected_test.shape)"
   ]
  },
  {
   "cell_type": "code",
   "execution_count": 20,
   "metadata": {
    "collapsed": false
   },
   "outputs": [],
   "source": [
    "np.save('x_tr.npy', projected)\n",
    "np.save('x_te.npy', projected_test)\n",
    "np.save('y_tr.npy', y_tr)\n",
    "np.save('y_te.npy', y_test)"
   ]
  }
 ],
 "metadata": {
  "kernelspec": {
   "display_name": "Python 3",
   "language": "python",
   "name": "python3"
  },
  "language_info": {
   "codemirror_mode": {
    "name": "ipython",
    "version": 3
   },
   "file_extension": ".py",
   "mimetype": "text/x-python",
   "name": "python",
   "nbconvert_exporter": "python",
   "pygments_lexer": "ipython3",
   "version": "3.4.3"
  }
 },
 "nbformat": 4,
 "nbformat_minor": 0
}
