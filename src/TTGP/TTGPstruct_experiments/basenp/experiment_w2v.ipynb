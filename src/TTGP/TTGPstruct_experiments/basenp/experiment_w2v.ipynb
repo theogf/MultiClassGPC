{
 "cells": [
  {
   "cell_type": "code",
   "execution_count": 1,
   "metadata": {
    "collapsed": false
   },
   "outputs": [
    {
     "name": "stderr",
     "output_type": "stream",
     "text": [
      "Using TensorFlow backend.\n"
     ]
    }
   ],
   "source": [
    "import gensim\n",
    "from gensim.models import Word2Vec\n",
    "import numpy as np\n",
    "from sklearn.preprocessing import OneHotEncoder\n",
    "from sklearn.metrics import confusion_matrix"
   ]
  },
  {
   "cell_type": "code",
   "execution_count": 2,
   "metadata": {
    "collapsed": false
   },
   "outputs": [],
   "source": [
    "model = gensim.models.KeyedVectors.load_word2vec_format('lexvec.enwiki+newscrawl.300d.W.pos.vectors', binary=False)"
   ]
  },
  {
   "cell_type": "code",
   "execution_count": 35,
   "metadata": {
    "collapsed": false
   },
   "outputs": [
    {
     "data": {
      "text/plain": [
       "[('indie', 0.6529097557067871),\n",
       " ('punk', 0.6498284935951233),\n",
       " ('pop', 0.6095801591873169),\n",
       " ('band', 0.6057138442993164),\n",
       " ('grunge', 0.6026045680046082),\n",
       " ('metal', 0.5947062969207764),\n",
       " ('folk', 0.567721962928772),\n",
       " ('rockabilly', 0.5619145631790161),\n",
       " ('bands', 0.5610542297363281),\n",
       " ('synthpop', 0.5544852614402771)]"
      ]
     },
     "execution_count": 35,
     "metadata": {},
     "output_type": "execute_result"
    }
   ],
   "source": [
    "model.most_similar(['rock'])"
   ]
  },
  {
   "cell_type": "code",
   "execution_count": 32,
   "metadata": {
    "collapsed": false
   },
   "outputs": [
    {
     "data": {
      "text/plain": [
       "[('nottinghamshire', 0.40037858486175537),\n",
       " ('warwickshire', 0.397294819355011),\n",
       " ('mixtecs', 0.3770623207092285),\n",
       " ('aztec', 0.3762865662574768),\n",
       " ('gloucestershire', 0.37138208746910095),\n",
       " ('worcestershire', 0.3703794777393341),\n",
       " ('northamptonshire', 0.36693239212036133),\n",
       " ('leicestershire', 0.36681750416755676),\n",
       " ('tlatoani', 0.36521801352500916),\n",
       " ('leicester', 0.3631800711154938)]"
      ]
     },
     "execution_count": 32,
     "metadata": {},
     "output_type": "execute_result"
    }
   ],
   "source": [
    "model.most_similar(['', 'england'], ['america'])"
   ]
  },
  {
   "cell_type": "code",
   "execution_count": 43,
   "metadata": {
    "collapsed": false
   },
   "outputs": [
    {
     "ename": "KeyError",
     "evalue": "\"word 'grothendieck ' not in vocabulary\"",
     "output_type": "error",
     "traceback": [
      "\u001b[0;31m---------------------------------------------------------------------------\u001b[0m",
      "\u001b[0;31mKeyError\u001b[0m                                  Traceback (most recent call last)",
      "\u001b[0;32m<ipython-input-43-4fd632552178>\u001b[0m in \u001b[0;36m<module>\u001b[0;34m()\u001b[0m\n\u001b[0;32m----> 1\u001b[0;31m \u001b[0mmodel\u001b[0m\u001b[0;34m.\u001b[0m\u001b[0mmost_similar\u001b[0m\u001b[0;34m(\u001b[0m\u001b[0;34m[\u001b[0m\u001b[0;34m'grothendieck '\u001b[0m\u001b[0;34m]\u001b[0m\u001b[0;34m)\u001b[0m\u001b[0;34m\u001b[0m\u001b[0m\n\u001b[0m",
      "\u001b[0;32m/Library/Frameworks/Python.framework/Versions/3.4/lib/python3.4/site-packages/gensim/models/keyedvectors.py\u001b[0m in \u001b[0;36mmost_similar\u001b[0;34m(self, positive, negative, topn, restrict_vocab, indexer)\u001b[0m\n\u001b[1;32m    333\u001b[0m                 \u001b[0mmean\u001b[0m\u001b[0;34m.\u001b[0m\u001b[0mappend\u001b[0m\u001b[0;34m(\u001b[0m\u001b[0mweight\u001b[0m \u001b[0;34m*\u001b[0m \u001b[0mword\u001b[0m\u001b[0;34m)\u001b[0m\u001b[0;34m\u001b[0m\u001b[0m\n\u001b[1;32m    334\u001b[0m             \u001b[0;32melse\u001b[0m\u001b[0;34m:\u001b[0m\u001b[0;34m\u001b[0m\u001b[0m\n\u001b[0;32m--> 335\u001b[0;31m                 \u001b[0mmean\u001b[0m\u001b[0;34m.\u001b[0m\u001b[0mappend\u001b[0m\u001b[0;34m(\u001b[0m\u001b[0mweight\u001b[0m \u001b[0;34m*\u001b[0m \u001b[0mself\u001b[0m\u001b[0;34m.\u001b[0m\u001b[0mword_vec\u001b[0m\u001b[0;34m(\u001b[0m\u001b[0mword\u001b[0m\u001b[0;34m,\u001b[0m \u001b[0muse_norm\u001b[0m\u001b[0;34m=\u001b[0m\u001b[0;32mTrue\u001b[0m\u001b[0;34m)\u001b[0m\u001b[0;34m)\u001b[0m\u001b[0;34m\u001b[0m\u001b[0m\n\u001b[0m\u001b[1;32m    336\u001b[0m                 \u001b[0;32mif\u001b[0m \u001b[0mword\u001b[0m \u001b[0;32min\u001b[0m \u001b[0mself\u001b[0m\u001b[0;34m.\u001b[0m\u001b[0mvocab\u001b[0m\u001b[0;34m:\u001b[0m\u001b[0;34m\u001b[0m\u001b[0m\n\u001b[1;32m    337\u001b[0m                     \u001b[0mall_words\u001b[0m\u001b[0;34m.\u001b[0m\u001b[0madd\u001b[0m\u001b[0;34m(\u001b[0m\u001b[0mself\u001b[0m\u001b[0;34m.\u001b[0m\u001b[0mvocab\u001b[0m\u001b[0;34m[\u001b[0m\u001b[0mword\u001b[0m\u001b[0;34m]\u001b[0m\u001b[0;34m.\u001b[0m\u001b[0mindex\u001b[0m\u001b[0;34m)\u001b[0m\u001b[0;34m\u001b[0m\u001b[0m\n",
      "\u001b[0;32m/Library/Frameworks/Python.framework/Versions/3.4/lib/python3.4/site-packages/gensim/models/keyedvectors.py\u001b[0m in \u001b[0;36mword_vec\u001b[0;34m(self, word, use_norm)\u001b[0m\n\u001b[1;32m    286\u001b[0m                 \u001b[0;32mreturn\u001b[0m \u001b[0mself\u001b[0m\u001b[0;34m.\u001b[0m\u001b[0msyn0\u001b[0m\u001b[0;34m[\u001b[0m\u001b[0mself\u001b[0m\u001b[0;34m.\u001b[0m\u001b[0mvocab\u001b[0m\u001b[0;34m[\u001b[0m\u001b[0mword\u001b[0m\u001b[0;34m]\u001b[0m\u001b[0;34m.\u001b[0m\u001b[0mindex\u001b[0m\u001b[0;34m]\u001b[0m\u001b[0;34m\u001b[0m\u001b[0m\n\u001b[1;32m    287\u001b[0m         \u001b[0;32melse\u001b[0m\u001b[0;34m:\u001b[0m\u001b[0;34m\u001b[0m\u001b[0m\n\u001b[0;32m--> 288\u001b[0;31m             \u001b[0;32mraise\u001b[0m \u001b[0mKeyError\u001b[0m\u001b[0;34m(\u001b[0m\u001b[0;34m\"word '%s' not in vocabulary\"\u001b[0m \u001b[0;34m%\u001b[0m \u001b[0mword\u001b[0m\u001b[0;34m)\u001b[0m\u001b[0;34m\u001b[0m\u001b[0m\n\u001b[0m\u001b[1;32m    289\u001b[0m \u001b[0;34m\u001b[0m\u001b[0m\n\u001b[1;32m    290\u001b[0m     \u001b[0;32mdef\u001b[0m \u001b[0mmost_similar\u001b[0m\u001b[0;34m(\u001b[0m\u001b[0mself\u001b[0m\u001b[0;34m,\u001b[0m \u001b[0mpositive\u001b[0m\u001b[0;34m=\u001b[0m\u001b[0;34m[\u001b[0m\u001b[0;34m]\u001b[0m\u001b[0;34m,\u001b[0m \u001b[0mnegative\u001b[0m\u001b[0;34m=\u001b[0m\u001b[0;34m[\u001b[0m\u001b[0;34m]\u001b[0m\u001b[0;34m,\u001b[0m \u001b[0mtopn\u001b[0m\u001b[0;34m=\u001b[0m\u001b[0;36m10\u001b[0m\u001b[0;34m,\u001b[0m \u001b[0mrestrict_vocab\u001b[0m\u001b[0;34m=\u001b[0m\u001b[0;32mNone\u001b[0m\u001b[0;34m,\u001b[0m \u001b[0mindexer\u001b[0m\u001b[0;34m=\u001b[0m\u001b[0;32mNone\u001b[0m\u001b[0;34m)\u001b[0m\u001b[0;34m:\u001b[0m\u001b[0;34m\u001b[0m\u001b[0m\n",
      "\u001b[0;31mKeyError\u001b[0m: \"word 'grothendieck ' not in vocabulary\""
     ]
    }
   ],
   "source": [
    "model.most_similar(['grothendieck '])"
   ]
  },
  {
   "cell_type": "code",
   "execution_count": 42,
   "metadata": {
    "collapsed": false
   },
   "outputs": [
    {
     "data": {
      "text/plain": [
       "[('topologies', 0.5512890219688416),\n",
       " ('manifolds', 0.5251404047012329),\n",
       " ('invariants', 0.4976772665977478),\n",
       " ('topological', 0.49455025792121887),\n",
       " ('hilbert', 0.4756934940814972),\n",
       " ('pontryagin', 0.468117356300354),\n",
       " ('tychonoff', 0.4634854793548584),\n",
       " ('grothendieck', 0.44825324416160583),\n",
       " ('riemannian', 0.44656234979629517),\n",
       " ('hausdorff', 0.4454619586467743)]"
      ]
     },
     "execution_count": 42,
     "metadata": {},
     "output_type": "execute_result"
    }
   ],
   "source": [
    "model.most_similar(['kolmogorov', 'topology'], ['probability'])"
   ]
  },
  {
   "cell_type": "code",
   "execution_count": 3,
   "metadata": {
    "collapsed": false
   },
   "outputs": [
    {
     "data": {
      "text/plain": [
       "[('mariupol', 0.6894228458404541),\n",
       " ('kharkiv', 0.625602662563324),\n",
       " ('sevastopol', 0.6135071516036987),\n",
       " ('zaporizhya', 0.6019512414932251),\n",
       " ('odessa', 0.5999424457550049),\n",
       " ('kherson', 0.5955302715301514),\n",
       " ('dnipropetrovsk', 0.5812416672706604),\n",
       " ('donetsk', 0.5733100771903992),\n",
       " ('kyiv', 0.5717471837997437),\n",
       " ('mykolaiv', 0.568718671798706)]"
      ]
     },
     "execution_count": 3,
     "metadata": {},
     "output_type": "execute_result"
    }
   ],
   "source": [
    "model.most_similar(positive=['novorossiysk', 'ukraine'], negative=['russia'])"
   ]
  },
  {
   "cell_type": "markdown",
   "metadata": {},
   "source": [
    "## data"
   ]
  },
  {
   "cell_type": "code",
   "execution_count": 2,
   "metadata": {
    "collapsed": true
   },
   "outputs": [],
   "source": [
    "def produce_data(filename):\n",
    "    file = open(filename)\n",
    "    sentences = []\n",
    "    pos = []\n",
    "    labels = []\n",
    "    sentence, sentence_pos, sentence_labels = [], [], []\n",
    "    \n",
    "    for entry in file:\n",
    "        if len(entry.split(' ')) == 1:\n",
    "            sentences.append(sentence)\n",
    "            labels.append(sentence_labels)\n",
    "            pos.append(sentence_pos)\n",
    "            sentence, sentence_pos, sentence_labels = [], [], []\n",
    "        else:\n",
    "            word, word_pos, word_label = entry.split(' ')\n",
    "            sentence.append(word.lower())\n",
    "            sentence_pos.append(word_pos)\n",
    "            sentence_labels.append(word_label[0])\n",
    "    file.close()\n",
    "    return sentences, pos, labels\n",
    "\n",
    "def produce_vectors(sentences, w2v):\n",
    "    vectors, sentence_vectors = [], []\n",
    "    for sentence in sentences:\n",
    "        for word in sentence:\n",
    "            try:\n",
    "                vector = w2v[word]\n",
    "            except:\n",
    "                vector = np.zeros((300))\n",
    "            sentence_vectors.append(vector)\n",
    "        vectors.append(sentence_vectors)\n",
    "    return vectors\n",
    "\n",
    "def find_in_list(lst, elem):\n",
    "    try:\n",
    "        return(lst.index(elem))\n",
    "    except:\n",
    "        return 0\n",
    "\n",
    "def process_pos(pos, pos_set=None):\n",
    "    if pos_set is None:\n",
    "        pos_set = list(set([elem for sentence in pos for elem in sentence]))\n",
    "        pos_set = [\"Unknown\"] + pos_set\n",
    "    pos_indexed = [[find_in_list(pos_set, elem) for elem in sentence] for sentence in pos]\n",
    "    pos_onehot = []\n",
    "    for sentence in pos_indexed:\n",
    "        sentence_onehot = []\n",
    "        for word in sentence:\n",
    "            word_onehot = np.zeros((len(pos_set)))\n",
    "            word_onehot[word] = 1.\n",
    "            sentence_onehot.append(word_onehot)\n",
    "        pos_onehot.append(sentence_onehot)\n",
    "    return pos_onehot, pos_set\n",
    "\n",
    "def process_labels(labels):\n",
    "    new_labels = []\n",
    "    for sentence in labels:\n",
    "        sentence_labels = []\n",
    "        for word in sentence:\n",
    "            if word == 'B':\n",
    "                word_label = 0\n",
    "            if word == 'I':\n",
    "                word_label = 1\n",
    "            if word == 'O':\n",
    "                word_label = 2\n",
    "            sentence_labels.append(word_label)\n",
    "        sentence_labels = np.array(sentence_labels)\n",
    "        new_labels.append(sentence_labels)\n",
    "    return new_labels\n",
    "\n",
    "def concat_features(vectors, one_hot):\n",
    "    new_features = []\n",
    "    for v_sentence, p_sentence in list(zip(vectors, one_hot)):\n",
    "        sentence_features = []\n",
    "        for v_word, p_word in list(zip(v_sentence, p_sentence)):\n",
    "#             print(p_word.shape)\n",
    "#             print(v_word.shape)\n",
    "            word_features = np.concatenate([v_word, p_word])[None, :]\n",
    "            sentence_features.append(word_features)\n",
    "        sentence_features = np.concatenate(sentence_features)\n",
    "        new_features.append(sentence_features)\n",
    "    return new_features"
   ]
  },
  {
   "cell_type": "code",
   "execution_count": 31,
   "metadata": {
    "collapsed": false
   },
   "outputs": [],
   "source": [
    "# sentences, pos, labels = produce_data('train.txt')\n",
    "sentences, pos, labels = produce_data('test.txt')"
   ]
  },
  {
   "cell_type": "code",
   "execution_count": 32,
   "metadata": {
    "collapsed": true
   },
   "outputs": [],
   "source": [
    "from collections import defaultdict\n",
    "import operator\n",
    " "
   ]
  },
  {
   "cell_type": "code",
   "execution_count": 33,
   "metadata": {
    "collapsed": false
   },
   "outputs": [],
   "source": [
    "words = defaultdict(int)\n",
    "for sentence in sentences:\n",
    "    for word in sentence:\n",
    "        words[word]+=1\n",
    "words = dict(words)"
   ]
  },
  {
   "cell_type": "code",
   "execution_count": 4,
   "metadata": {
    "collapsed": true
   },
   "outputs": [],
   "source": [
    "def prepare_data(filename, model, pos_set=None):\n",
    "    sentences, pos, labels = produce_data(filename)\n",
    "    vectors = produce_vectors(sentences, model)\n",
    "    pos_onehot, pos_set = process_pos(pos, pos_set)\n",
    "    indexed_labels = process_labels(labels)\n",
    "#     return pos_onehot\n",
    "    features = concat_features(vectors, pos_onehot)\n",
    "    return features, indexed_labels, pos_set"
   ]
  },
  {
   "cell_type": "code",
   "execution_count": 18,
   "metadata": {
    "collapsed": false
   },
   "outputs": [],
   "source": [
    "def pad(x, y):\n",
    "    maxlen = np.max([seq.shape[0] for seq in x])\n",
    "    D = x[0].shape[1]\n",
    "    padded_x = []\n",
    "    padded_y = []\n",
    "    seq_lens = []\n",
    "    for seq, labels in list(zip(x, y)):\n",
    "        seq_len = seq.shape[0]\n",
    "        padded_seq = np.concatenate([seq, np.zeros((maxlen - seq_len, D))])[None, :, :]\n",
    "        padded_labels = np.concatenate([labels, np.zeros((maxlen - seq_len))])[None, :]\n",
    "        padded_x.append(padded_seq)\n",
    "        padded_y.append(padded_labels)\n",
    "        seq_lens.append(seq_len)\n",
    "    return np.concatenate(padded_x), np.concatenate(padded_y), np.array(seq_lens)"
   ]
  },
  {
   "cell_type": "code",
   "execution_count": 436,
   "metadata": {
    "collapsed": true
   },
   "outputs": [],
   "source": [
    "def make_classification_data(x, y):\n",
    "    x_new, y_new = [], []\n",
    "    for seq, labels in list(zip(x, y)):\n",
    "        x_new.append(seq)\n",
    "        y_new.append(labels)\n",
    "    x_new = np.concatenate(x_new)\n",
    "    y_new = np.concatenate(y_new)\n",
    "#     y_new[y_new == 1] = 0\n",
    "#     y_new[y_new == 2] = 1\n",
    "    return x_new, y_new"
   ]
  },
  {
   "cell_type": "markdown",
   "metadata": {},
   "source": [
    "### Classification data"
   ]
  },
  {
   "cell_type": "code",
   "execution_count": 437,
   "metadata": {
    "collapsed": true
   },
   "outputs": [],
   "source": [
    "# x_tr, y_tr, pos_set = prepare_data('train.txt', model)\n",
    "x_te, y_te, _ = prepare_data('test.txt', model)\n",
    "x_tr, y_tr = x_te[:500], y_te[:500]\n",
    "x_te, y_te = x_te[500:], y_te[500:]"
   ]
  },
  {
   "cell_type": "code",
   "execution_count": 438,
   "metadata": {
    "collapsed": false
   },
   "outputs": [],
   "source": [
    "x_te, y_te = make_classification_data(x_te, y_te)\n",
    "x_tr, y_tr = make_classification_data(x_tr, y_tr)"
   ]
  },
  {
   "cell_type": "code",
   "execution_count": 440,
   "metadata": {
    "collapsed": true
   },
   "outputs": [],
   "source": [
    "np.save('data_class/x_tr', x_tr[:, 300:])\n",
    "np.save('data_class/x_te', x_te[:, 300:])\n",
    "np.save('data_class/y_tr', y_tr)\n",
    "np.save('data_class/y_te', y_te)"
   ]
  },
  {
   "cell_type": "markdown",
   "metadata": {},
   "source": [
    "### Structured Prediction data"
   ]
  },
  {
   "cell_type": "code",
   "execution_count": 441,
   "metadata": {
    "collapsed": true
   },
   "outputs": [],
   "source": [
    "# x_tr, y_tr, pos_set = prepare_data('train.txt', model)\n",
    "x_te, y_te, _ = prepare_data('test.txt', model)\n",
    "x_tr, y_tr = x_te[:500], y_te[:500]\n",
    "x_te, y_te = x_te[500:], y_te[500:]"
   ]
  },
  {
   "cell_type": "code",
   "execution_count": 442,
   "metadata": {
    "collapsed": false
   },
   "outputs": [],
   "source": [
    "x_te, y_te, seq_lens_te = pad(x_te, y_te)\n",
    "x_tr, y_tr, seq_lens_tr = pad(x_tr, y_tr)"
   ]
  },
  {
   "cell_type": "code",
   "execution_count": 443,
   "metadata": {
    "collapsed": true
   },
   "outputs": [],
   "source": [
    "x_te = x_te[:, :, 300:]\n",
    "x_tr = x_tr[:, :, 300:]"
   ]
  },
  {
   "cell_type": "markdown",
   "metadata": {},
   "source": [
    "## Pretrained embedding"
   ]
  },
  {
   "cell_type": "code",
   "execution_count": 444,
   "metadata": {
    "collapsed": true
   },
   "outputs": [],
   "source": [
    "P = np.load('P.npy')\n",
    "d, D = P.shape"
   ]
  },
  {
   "cell_type": "code",
   "execution_count": 445,
   "metadata": {
    "collapsed": false
   },
   "outputs": [],
   "source": [
    "x_tr_flat = x_tr.reshape([-1, D])\n",
    "x_te_flat = x_te.reshape([-1, D])"
   ]
  },
  {
   "cell_type": "code",
   "execution_count": 446,
   "metadata": {
    "collapsed": false
   },
   "outputs": [],
   "source": [
    "x_tr_flat = x_tr_flat.dot(P.T)\n",
    "x_te_flat = x_te_flat.dot(P.T)"
   ]
  },
  {
   "cell_type": "code",
   "execution_count": 447,
   "metadata": {
    "collapsed": false
   },
   "outputs": [],
   "source": [
    "x_tr = x_tr_flat.reshape(list(x_tr.shape[:2])+[d])\n",
    "x_te = x_te_flat.reshape(list(x_te.shape[:2])+[d])"
   ]
  },
  {
   "cell_type": "markdown",
   "metadata": {},
   "source": [
    "## Training"
   ]
  },
  {
   "cell_type": "code",
   "execution_count": 448,
   "metadata": {
    "collapsed": false
   },
   "outputs": [
    {
     "name": "stdout",
     "output_type": "stream",
     "text": [
      "The autoreload extension is already loaded. To reload it, use:\n",
      "  %reload_ext autoreload\n"
     ]
    }
   ],
   "source": [
    "import numpy as np\n",
    "import tensorflow as tf\n",
    "import t3f\n",
    "from scipy.spatial.distance import cdist\n",
    "from matplotlib import pyplot as plt\n",
    "from sklearn.preprocessing import StandardScaler\n",
    "\n",
    "from TTGP.gpstruct import TTGPstruct\n",
    "from TTGP import grid\n",
    "from TTGP.covariance import SE_multidim, BinaryKernel\n",
    "from TTGP.projectors import LinearProjector, Identity\n",
    "%load_ext autoreload\n",
    "%autoreload 2\n",
    "\n",
    "%matplotlib inline"
   ]
  },
  {
   "cell_type": "code",
   "execution_count": 449,
   "metadata": {
    "collapsed": false
   },
   "outputs": [],
   "source": [
    "D = x_tr.shape[-1]\n",
    "# d = 3\n",
    "n_labels = 3"
   ]
  },
  {
   "cell_type": "code",
   "execution_count": 450,
   "metadata": {
    "collapsed": false,
    "scrolled": true
   },
   "outputs": [],
   "source": [
    "x_tr_flat = x_tr.reshape([-1, D])\n",
    "x_te_flat = x_te.reshape([-1, D])"
   ]
  },
  {
   "cell_type": "code",
   "execution_count": 451,
   "metadata": {
    "collapsed": true
   },
   "outputs": [],
   "source": [
    "scaler = StandardScaler()\n",
    "x_tr_flat = scaler.fit_transform(x_tr_flat)/3\n",
    "x_te_flat = scaler.transform(x_te_flat)/3"
   ]
  },
  {
   "cell_type": "code",
   "execution_count": 452,
   "metadata": {
    "collapsed": true
   },
   "outputs": [],
   "source": [
    "x_tr = x_tr_flat.reshape(x_tr.shape)\n",
    "x_te = x_te_flat.reshape(x_te.shape)"
   ]
  },
  {
   "cell_type": "code",
   "execution_count": 453,
   "metadata": {
    "collapsed": true
   },
   "outputs": [],
   "source": [
    "x_tr[x_tr > 1] = 1\n",
    "x_tr[x_tr < -1] = -1\n",
    "x_te[x_te > 1] = 1\n",
    "x_te[x_te < -1] = -1"
   ]
  },
  {
   "cell_type": "markdown",
   "metadata": {},
   "source": [
    "### GP"
   ]
  },
  {
   "cell_type": "code",
   "execution_count": 454,
   "metadata": {
    "collapsed": true
   },
   "outputs": [],
   "source": [
    "tf.reset_default_graph()"
   ]
  },
  {
   "cell_type": "code",
   "execution_count": 455,
   "metadata": {
    "collapsed": false
   },
   "outputs": [],
   "source": [
    "num = 10\n",
    "inputs = grid.InputsGrid(d, left=-1., right=1., npoints=num)\n",
    "projector = Identity(D)#LinearProjector(d=d, D=D)\n",
    "cov = SE_multidim(n_labels, .7, .3, .1, projector)\n",
    "bin_cov = BinaryKernel(n_labels, alpha=1.)"
   ]
  },
  {
   "cell_type": "code",
   "execution_count": 456,
   "metadata": {
    "collapsed": false
   },
   "outputs": [],
   "source": [
    "mu_ranks = 10\n",
    "gp = TTGPstruct(cov, bin_cov, inputs, mu_ranks)"
   ]
  },
  {
   "cell_type": "code",
   "execution_count": 457,
   "metadata": {
    "collapsed": false
   },
   "outputs": [],
   "source": [
    "x_tr_ = tf.constant(x_tr)[:150]\n",
    "x_te_ = tf.constant(x_te)\n",
    "y_tr_ = tf.constant(y_tr)[:150]\n",
    "y_te_ = tf.constant(y_te)\n",
    "seq_lens_tr_ = tf.constant(seq_lens_tr)[:150]\n",
    "seq_lens_te_ = tf.constant(seq_lens_te)"
   ]
  },
  {
   "cell_type": "code",
   "execution_count": 458,
   "metadata": {
    "collapsed": false
   },
   "outputs": [],
   "source": [
    "N = x_tr.shape[0]\n",
    "global_step = tf.Variable(0, trainable=False)\n",
    "lr = tf.train.exponential_decay(1e-2, global_step, \n",
    "                                        100, 0.5, staircase=True)"
   ]
  },
  {
   "cell_type": "code",
   "execution_count": 459,
   "metadata": {
    "collapsed": false
   },
   "outputs": [
    {
     "name": "stdout",
     "output_type": "stream",
     "text": [
      "_latent_vars_distribution/x_flat (?, 3) = sum_len x 3\n",
      "_latent_vars_distribution/m_un_flat <unknown> = sum_len x 3\n",
      "cov_for_squared_dists/cov (3, 150, 63, 63) = [3, 150, 63, 63]\n",
      "_Knns/K_nn (3, 150, 63, 63) = 3 x 150 x 63 x 63\n",
      "_sample_f/f_un (3, 150, 63) = 3 150 63\n",
      "_sample_f/f_bin (9,) = 9\n"
     ]
    }
   ],
   "source": [
    "elbo_op, train_op = gp.fit(x_tr_, y_tr_, seq_lens_tr_, N, lr, global_step)"
   ]
  },
  {
   "cell_type": "markdown",
   "metadata": {},
   "source": [
    "### Learning"
   ]
  },
  {
   "cell_type": "code",
   "execution_count": 460,
   "metadata": {
    "collapsed": true
   },
   "outputs": [],
   "source": [
    "sess = tf.Session()\n",
    "gp.initialize(sess)\n",
    "sess.run(tf.global_variables_initializer())\n",
    "elbo_vals = []"
   ]
  },
  {
   "cell_type": "code",
   "execution_count": 479,
   "metadata": {
    "collapsed": false
   },
   "outputs": [
    {
     "name": "stdout",
     "output_type": "stream",
     "text": [
      "0 8.34904176825\n",
      "1 15.8860113902\n",
      "2 12.0954294089\n",
      "3 7.81000358668\n",
      "4 12.4225378116\n",
      "5 10.3286674329\n",
      "6 2.25711124028\n",
      "7 -0.308832508652\n",
      "8 20.7064569928\n",
      "9 10.9413613692\n",
      "10 17.5820313\n",
      "11 17.1742666324\n",
      "12 24.2399170974\n",
      "13 7.92467421793\n",
      "14 3.75781878324\n",
      "15 19.252897266\n",
      "16 16.4231671745\n",
      "17 26.7849475438\n",
      "18 11.2248837798\n",
      "19 4.05850785349\n",
      "20 19.2351359523\n",
      "21 8.95964015251\n",
      "22 8.0329966952\n",
      "23 24.5663304042\n",
      "24 19.044747158\n",
      "25 1.59385441767\n",
      "26 30.6006781436\n",
      "27 5.22460166951\n",
      "28 3.79562388261\n",
      "29 25.892050131\n",
      "30 29.0067657609\n",
      "31 3.91378554806\n",
      "32 7.7449723382\n",
      "33 13.8967717442\n",
      "34 19.542231401\n",
      "35 18.391229126\n",
      "36 -10.2711358496\n",
      "37 0.327739652938\n",
      "38 6.67632270555\n",
      "39 20.5781245558\n",
      "40 4.52381138494\n",
      "41 27.7348119837\n",
      "42 20.2896644218\n",
      "43 10.5168307685\n",
      "44 12.1413651711\n",
      "45 7.83272447396\n",
      "46 17.6942156456\n",
      "47 20.3767598836\n",
      "48 16.505765591\n",
      "49 11.0277187147\n",
      "50 33.9207399777\n",
      "51 11.5913118857\n",
      "52 11.2712794142\n",
      "53 1.88510149538\n",
      "54 17.8500427895\n",
      "55 11.7000267644\n",
      "56 -2.60864761943\n",
      "57 8.43883997861\n",
      "58 17.5602643238\n",
      "59 35.1098272184\n",
      "60 12.7592427969\n",
      "61 19.4891112896\n",
      "62 6.04528450226\n",
      "63 8.66705685991\n",
      "64 9.74220593722\n",
      "65 7.78845845457\n",
      "66 1.89768511072\n",
      "67 2.66316495491\n",
      "68 11.5792705267\n",
      "69 9.07117251998\n",
      "70 15.936193332\n",
      "71 -2.33271814718\n",
      "72 21.7080714439\n",
      "73 11.2431622314\n",
      "74 1.18459262882\n",
      "75 10.0380003901\n",
      "76 13.019800169\n",
      "77 13.1902926647\n",
      "78 -3.93673280744\n",
      "79 7.10433145553\n",
      "80 19.9152363645\n",
      "81 14.2333009948\n",
      "82 6.31914109507\n",
      "83 19.253600233\n",
      "84 5.47023342964\n",
      "85 22.3377255665\n",
      "86 35.2898442442\n",
      "87 12.9956666198\n",
      "88 5.18285587077\n",
      "89 22.1420468788\n",
      "90 20.5723593032\n",
      "91 28.0772992569\n",
      "92 19.597557378\n",
      "93 4.97788444148\n",
      "94 5.12557082741\n",
      "95 -13.0668134746\n",
      "96 11.5177822801\n",
      "97 8.56611503784\n",
      "98 0.816001263719\n",
      "99 10.7683119585\n"
     ]
    }
   ],
   "source": [
    "maxiter = 100\n",
    "\n",
    "for i in range(maxiter):\n",
    "    _, elbo = sess.run([train_op, elbo_op])\n",
    "    print(i, elbo)\n",
    "    elbo_vals.append(elbo)"
   ]
  },
  {
   "cell_type": "code",
   "execution_count": 408,
   "metadata": {
    "collapsed": true
   },
   "outputs": [],
   "source": [
    "sess.close()"
   ]
  },
  {
   "cell_type": "code",
   "execution_count": 480,
   "metadata": {
    "collapsed": false
   },
   "outputs": [
    {
     "data": {
      "text/plain": [
       "[<matplotlib.lines.Line2D at 0x1681c5630>]"
      ]
     },
     "execution_count": 480,
     "metadata": {},
     "output_type": "execute_result"
    },
    {
     "data": {
      "image/png": "[encoded data removed]",
      "text/plain": [
       "<matplotlib.figure.Figure at 0x1654cad68>"
      ]
     },
     "metadata": {},
     "output_type": "display_data"
    }
   ],
   "source": [
    "plt.plot(elbo_vals)"
   ]
  },
  {
   "cell_type": "markdown",
   "metadata": {},
   "source": [
    "Prediction"
   ]
  },
  {
   "cell_type": "code",
   "execution_count": 481,
   "metadata": {
    "collapsed": false
   },
   "outputs": [
    {
     "name": "stdout",
     "output_type": "stream",
     "text": [
      "_latent_vars_distribution/x_flat (?, 3) = sum_len x 3\n",
      "_latent_vars_distribution/m_un_flat <unknown> = sum_len x 3\n",
      "cov_for_squared_dists/cov (3, 323, 63, 63) = [3, 323, 63, 63]\n",
      "_Knns/K_nn (3, 323, 63, 63) = 3 x 323 x 63 x 63\n"
     ]
    }
   ],
   "source": [
    "preds = gp.predict(x_te_, seq_lens_te_, sess)"
   ]
  },
  {
   "cell_type": "code",
   "execution_count": 482,
   "metadata": {
    "collapsed": false
   },
   "outputs": [
    {
     "data": {
      "text/plain": [
       "array([ True,  True,  True, False,  True,  True,  True,  True,  True,\n",
       "        True,  True,  True,  True,  True,  True,  True,  True,  True,\n",
       "        True,  True,  True,  True,  True,  True,  True,  True,  True,\n",
       "        True,  True,  True,  True,  True,  True,  True,  True, False,\n",
       "        True,  True,  True,  True], dtype=bool)"
      ]
     },
     "execution_count": 482,
     "metadata": {},
     "output_type": "execute_result"
    }
   ],
   "source": [
    "i = 5\n",
    "y_te[i, :seq_lens_te[i]] == preds[i]"
   ]
  },
  {
   "cell_type": "code",
   "execution_count": 483,
   "metadata": {
    "collapsed": false
   },
   "outputs": [
    {
     "name": "stdout",
     "output_type": "stream",
     "text": [
      "0.917265264238\n"
     ]
    },
    {
     "data": {
      "text/plain": [
       "<matplotlib.colorbar.Colorbar at 0x1927a1cf8>"
      ]
     },
     "execution_count": 483,
     "metadata": {},
     "output_type": "execute_result"
    },
    {
     "data": {
      "image/png": "[encoded data removed]",
      "text/plain": [
       "<matplotlib.figure.Figure at 0x16b96fda0>"
      ]
     },
     "metadata": {},
     "output_type": "display_data"
    }
   ],
   "source": [
    "sum = 0\n",
    "sum_len = 0\n",
    "confusion_mat = np.zeros((3, 3))\n",
    "for y, pred in list(zip(y_te, preds)):\n",
    "    confusion_mat += confusion_matrix(y[:len(pred)], np.array(pred), labels=[0, 1, 2])\n",
    "    sum += np.sum(y[:len(pred)] == np.array(pred))\n",
    "    sum_len += len(pred)\n",
    "print(sum / sum_len)\n",
    "plt.imshow(confusion_mat, interpolation=\"Nearest\")\n",
    "plt.colorbar()"
   ]
  },
  {
   "cell_type": "code",
   "execution_count": 484,
   "metadata": {
    "collapsed": false
   },
   "outputs": [
    {
     "data": {
      "text/plain": [
       "0.95061570035915854"
      ]
     },
     "execution_count": 484,
     "metadata": {},
     "output_type": "execute_result"
    }
   ],
   "source": [
    "(np.sum(confusion_mat[:2, :2]) + confusion_mat[2, 2]) / np.sum(confusion_mat)"
   ]
  },
  {
   "cell_type": "code",
   "execution_count": 485,
   "metadata": {
    "collapsed": false
   },
   "outputs": [],
   "source": [
    "m_bin = sess.run(gp.bin_mu)"
   ]
  },
  {
   "cell_type": "code",
   "execution_count": 486,
   "metadata": {
    "collapsed": false
   },
   "outputs": [
    {
     "name": "stdout",
     "output_type": "stream",
     "text": [
      "-0.832852909495 0 0\n",
      "1.02096405689 0 1\n",
      "-0.374723716593 0 2\n",
      "-0.882030868955 1 0\n",
      "0.650322429099 1 1\n",
      "-0.023054763459 1 2\n",
      "1.01998514801 2 0\n",
      "-1.28547005235 2 1\n",
      "0.288276720718 2 2\n"
     ]
    }
   ],
   "source": [
    "for i in range(3):\n",
    "    for j in range(3):\n",
    "        print(m_bin[3 * i + j], i, j)"
   ]
  },
  {
   "cell_type": "code",
   "execution_count": 320,
   "metadata": {
    "collapsed": false
   },
   "outputs": [
    {
     "data": {
      "text/plain": [
       "4.9847481144547272"
      ]
     },
     "execution_count": 320,
     "metadata": {},
     "output_type": "execute_result"
    }
   ],
   "source": [
    "sess.run(gp.bin_cov.alpha)"
   ]
  },
  {
   "cell_type": "code",
   "execution_count": 926,
   "metadata": {
    "collapsed": false
   },
   "outputs": [
    {
     "data": {
      "text/plain": [
       "(9, 9)"
      ]
     },
     "execution_count": 926,
     "metadata": {},
     "output_type": "execute_result"
    }
   ],
   "source": [
    "sigma_bin_l.shape"
   ]
  },
  {
   "cell_type": "code",
   "execution_count": null,
   "metadata": {
    "collapsed": true
   },
   "outputs": [],
   "source": [
    "sigma_bin = sigma_bin_l"
   ]
  },
  {
   "cell_type": "code",
   "execution_count": 727,
   "metadata": {
    "collapsed": false
   },
   "outputs": [
    {
     "data": {
      "text/plain": [
       "False"
      ]
     },
     "execution_count": 727,
     "metadata": {},
     "output_type": "execute_result"
    }
   ],
   "source": [
    "y == np.array(pred)"
   ]
  },
  {
   "cell_type": "code",
   "execution_count": 724,
   "metadata": {
    "collapsed": false
   },
   "outputs": [
    {
     "data": {
      "text/plain": [
       "[1, 1, 2, 2, 1, 2, 2, 0, 2, 2, 0, 2, 2, 0, 2, 2, 2, 1, 2]"
      ]
     },
     "execution_count": 724,
     "metadata": {},
     "output_type": "execute_result"
    }
   ],
   "source": [
    "pred"
   ]
  },
  {
   "cell_type": "code",
   "execution_count": null,
   "metadata": {
    "collapsed": true
   },
   "outputs": [],
   "source": [
    "y_te"
   ]
  },
  {
   "cell_type": "code",
   "execution_count": 716,
   "metadata": {
    "collapsed": false
   },
   "outputs": [
    {
     "data": {
      "text/plain": [
       "28"
      ]
     },
     "execution_count": 716,
     "metadata": {},
     "output_type": "execute_result"
    }
   ],
   "source": [
    "len(preds[0])"
   ]
  },
  {
   "cell_type": "code",
   "execution_count": 710,
   "metadata": {
    "collapsed": false
   },
   "outputs": [
    {
     "data": {
      "text/plain": [
       "0.0"
      ]
     },
     "execution_count": 710,
     "metadata": {},
     "output_type": "execute_result"
    }
   ],
   "source": [
    "np.sum(y_te == preds) / preds.size"
   ]
  },
  {
   "cell_type": "code",
   "execution_count": 614,
   "metadata": {
    "collapsed": false
   },
   "outputs": [
    {
     "name": "stdout",
     "output_type": "stream",
     "text": [
      "_latent_vars_distribution/x_flat (?, 339) = sum_len x 339\n",
      "_latent_vars_distribution/m_un_flat <unknown> = sum_len x 3\n",
      "cov_for_squared_dists/cov (3, 77, 50, 50) = [3, 77, 50, 50]\n",
      "_Knns/K_nn (3, 77, 50, 50) = 3 x 77 x 50 x 50\n"
     ]
    }
   ],
   "source": [
    "m_un, S_un, m_bin, S_bin = gp._latent_vars_distribution(x_tr_, seq_lens_tr_)"
   ]
  },
  {
   "cell_type": "code",
   "execution_count": 611,
   "metadata": {
    "collapsed": false
   },
   "outputs": [
    {
     "data": {
      "text/plain": [
       "array([[ 0.,  1.,  1., ...,  0.,  0.,  0.],\n",
       "       [ 0.,  2.,  0., ...,  0.,  0.,  0.],\n",
       "       [ 0.,  2.,  2., ...,  0.,  0.,  0.],\n",
       "       ..., \n",
       "       [ 0.,  1.,  1., ...,  0.,  0.,  0.],\n",
       "       [ 0.,  1.,  1., ...,  0.,  0.,  0.],\n",
       "       [ 0.,  1.,  1., ...,  0.,  0.,  0.]])"
      ]
     },
     "execution_count": 611,
     "metadata": {},
     "output_type": "execute_result"
    }
   ],
   "source": [
    "\n",
    "y_te"
   ]
  },
  {
   "cell_type": "code",
   "execution_count": 615,
   "metadata": {
    "collapsed": true
   },
   "outputs": [],
   "source": [
    "S_un_ = sess.run(S_un)"
   ]
  },
  {
   "cell_type": "code",
   "execution_count": 622,
   "metadata": {
    "collapsed": false
   },
   "outputs": [
    {
     "data": {
      "text/plain": [
       "0.4705951739073676"
      ]
     },
     "execution_count": 622,
     "metadata": {},
     "output_type": "execute_result"
    }
   ],
   "source": [
    "S_un_[0, 0, 24, 24]"
   ]
  },
  {
   "cell_type": "code",
   "execution_count": 621,
   "metadata": {
    "collapsed": false
   },
   "outputs": [
    {
     "data": {
      "text/plain": [
       "0.4705951739073676"
      ]
     },
     "execution_count": 621,
     "metadata": {},
     "output_type": "execute_result"
    }
   ],
   "source": [
    "S_un_[0, 0, 24, 7]"
   ]
  },
  {
   "cell_type": "code",
   "execution_count": 665,
   "metadata": {
    "collapsed": true
   },
   "outputs": [],
   "source": [
    "def _compute_chol(seq_lens, cov_mat):\n",
    "\n",
    "    n_labels, batch_size, max_len, _ = cov_mat.get_shape().as_list()\n",
    "    sequence_mask = tf.logical_not(tf.sequence_mask(seq_lens, maxlen=max_len))\n",
    "    sequence_mask = tf.cast(sequence_mask, tf.float64)\n",
    "    I = tf.eye(max_len, batch_shape=[n_labels, batch_size], dtype=tf.float64)\n",
    "     # We add ones on diagonals in the meaningless dimensions of covs.\n",
    "    new_cov_mat = cov_mat + tf.einsum('lsij,si->lsij', I, sequence_mask)\n",
    " \n",
    "         # NOTE: if same word (x) is repeated the matrix becomes singular\n",
    "         # ugly solution\n",
    "    new_cov_mat = new_cov_mat + 0.1 * I\n",
    " \n",
    "    return new_cov_mat"
   ]
  },
  {
   "cell_type": "code",
   "execution_count": 666,
   "metadata": {
    "collapsed": true
   },
   "outputs": [],
   "source": [
    "ans = sess.run(_compute_chol(seq_lens_tr_, S_un))"
   ]
  },
  {
   "cell_type": "code",
   "execution_count": 667,
   "metadata": {
    "collapsed": false
   },
   "outputs": [
    {
     "data": {
      "text/plain": [
       "-7.8457487274626774e-15"
      ]
     },
     "execution_count": 667,
     "metadata": {},
     "output_type": "execute_result"
    }
   ],
   "source": [
    "np.linalg.det(ans[0, 56])"
   ]
  },
  {
   "cell_type": "code",
   "execution_count": 682,
   "metadata": {
    "collapsed": false
   },
   "outputs": [
    {
     "data": {
      "text/plain": [
       "0.15925627839341569"
      ]
     },
     "execution_count": 682,
     "metadata": {},
     "output_type": "execute_result"
    }
   ],
   "source": [
    "np.linalg.det(S_un_[0, 56] +0.5 * np.eye(50))"
   ]
  },
  {
   "cell_type": "code",
   "execution_count": 672,
   "metadata": {
    "collapsed": false
   },
   "outputs": [
    {
     "data": {
      "text/plain": [
       "array([ 0.301,  0.301,  0.301])"
      ]
     },
     "execution_count": 672,
     "metadata": {},
     "output_type": "execute_result"
    }
   ],
   "source": [
    "sess.run(gp.cov.l)"
   ]
  },
  {
   "cell_type": "code",
   "execution_count": 685,
   "metadata": {
    "collapsed": false
   },
   "outputs": [],
   "source": [
    "ans_ = ans[0, 56]\n",
    "ans_[ans_ < 0] = 0"
   ]
  },
  {
   "cell_type": "code",
   "execution_count": 671,
   "metadata": {
    "collapsed": false
   },
   "outputs": [
    {
     "data": {
      "text/plain": [
       "array([ 0.728,  0.728,  0.728])"
      ]
     },
     "execution_count": 671,
     "metadata": {},
     "output_type": "execute_result"
    }
   ],
   "source": [
    "sess.run(gp.cov.sigma_f)"
   ]
  },
  {
   "cell_type": "code",
   "execution_count": 668,
   "metadata": {
    "collapsed": false
   },
   "outputs": [
    {
     "data": {
      "text/plain": [
       "<matplotlib.colorbar.Colorbar at 0x173602b00>"
      ]
     },
     "execution_count": 668,
     "metadata": {},
     "output_type": "execute_result"
    },
    {
     "data": {
      "image/png": "[encoded data removed]",
      "text/plain": [
       "<matplotlib.figure.Figure at 0x181015860>"
      ]
     },
     "metadata": {},
     "output_type": "display_data"
    }
   ],
   "source": [
    "plt.imshow(S_un_[0, 56], interpolation=\"nearest\")\n",
    "plt.colorbar()"
   ]
  },
  {
   "cell_type": "code",
   "execution_count": 655,
   "metadata": {
    "collapsed": false
   },
   "outputs": [
    {
     "data": {
      "text/plain": [
       "<matplotlib.colorbar.Colorbar at 0x17f09c438>"
      ]
     },
     "execution_count": 655,
     "metadata": {},
     "output_type": "execute_result"
    },
    {
     "data": {
      "image/png": "[encoded data removed]",
      "text/plain": [
       "<matplotlib.figure.Figure at 0x17a1091d0>"
      ]
     },
     "metadata": {},
     "output_type": "display_data"
    }
   ],
   "source": [
    "plt.imshow(ans[0, 56], interpolation=\"nearest\")\n",
    "plt.colorbar()"
   ]
  },
  {
   "cell_type": "code",
   "execution_count": 630,
   "metadata": {
    "collapsed": false
   },
   "outputs": [
    {
     "data": {
      "text/plain": [
       "array([[  7.660e-01,   0.000e+00,   0.000e+00, ...,   0.000e+00,\n",
       "          0.000e+00,   0.000e+00],\n",
       "       [ -6.851e-06,   7.553e-01,   0.000e+00, ...,   0.000e+00,\n",
       "          0.000e+00,   0.000e+00],\n",
       "       [  7.551e-05,  -1.388e-02,   7.460e-01, ...,   0.000e+00,\n",
       "          0.000e+00,   0.000e+00],\n",
       "       ..., \n",
       "       [ -7.580e-05,  -1.427e-02,  -3.549e-02, ...,   7.206e-01,\n",
       "          0.000e+00,   0.000e+00],\n",
       "       [ -1.254e-05,  -1.238e-02,   3.159e-04, ...,   3.770e-03,\n",
       "          7.527e-01,   0.000e+00],\n",
       "       [  3.977e-06,  -1.349e-02,  -4.332e-02, ...,  -1.477e-01,\n",
       "          3.389e-03,   7.001e-01]])"
      ]
     },
     "execution_count": 630,
     "metadata": {},
     "output_type": "execute_result"
    }
   ],
   "source": [
    "np.linalg.cholesky(S_un_[0, 0, :37, :37] + np.eye(37) * 0.1)"
   ]
  },
  {
   "cell_type": "code",
   "execution_count": 629,
   "metadata": {
    "collapsed": false
   },
   "outputs": [
    {
     "data": {
      "text/plain": [
       "<matplotlib.colorbar.Colorbar at 0x17a1eda58>"
      ]
     },
     "execution_count": 629,
     "metadata": {},
     "output_type": "execute_result"
    },
    {
     "data": {
      "image/png": "[encoded data removed]",
      "text/plain": [
       "<matplotlib.figure.Figure at 0x1733a5588>"
      ]
     },
     "metadata": {},
     "output_type": "display_data"
    }
   ],
   "source": [
    "plt.imshow(S_un_[0, 0, :37, :37] + np.eye(37) * 0.1, interpolation=\"nearest\")\n",
    "plt.colorbar()"
   ]
  },
  {
   "cell_type": "code",
   "execution_count": 618,
   "metadata": {
    "collapsed": false
   },
   "outputs": [
    {
     "ename": "LinAlgError",
     "evalue": "Matrix is not positive definite",
     "output_type": "error",
     "traceback": [
      "\u001b[0;31m---------------------------------------------------------------------------\u001b[0m",
      "\u001b[0;31mLinAlgError\u001b[0m                               Traceback (most recent call last)",
      "\u001b[0;32m<ipython-input-618-8c3b8fb000d4>\u001b[0m in \u001b[0;36m<module>\u001b[0;34m()\u001b[0m\n\u001b[0;32m----> 1\u001b[0;31m \u001b[0mnp\u001b[0m\u001b[0;34m.\u001b[0m\u001b[0mlinalg\u001b[0m\u001b[0;34m.\u001b[0m\u001b[0mcholesky\u001b[0m\u001b[0;34m(\u001b[0m\u001b[0mS_un_\u001b[0m\u001b[0;34m[\u001b[0m\u001b[0;36m0\u001b[0m\u001b[0;34m,\u001b[0m \u001b[0;36m0\u001b[0m\u001b[0;34m,\u001b[0m \u001b[0;34m:\u001b[0m\u001b[0;36m37\u001b[0m\u001b[0;34m,\u001b[0m \u001b[0;34m:\u001b[0m\u001b[0;36m37\u001b[0m\u001b[0;34m]\u001b[0m\u001b[0;34m)\u001b[0m\u001b[0;34m\u001b[0m\u001b[0m\n\u001b[0m",
      "\u001b[0;32m/Library/Frameworks/Python.framework/Versions/3.4/lib/python3.4/site-packages/numpy/linalg/linalg.py\u001b[0m in \u001b[0;36mcholesky\u001b[0;34m(a)\u001b[0m\n\u001b[1;32m    597\u001b[0m     \u001b[0mt\u001b[0m\u001b[0;34m,\u001b[0m \u001b[0mresult_t\u001b[0m \u001b[0;34m=\u001b[0m \u001b[0m_commonType\u001b[0m\u001b[0;34m(\u001b[0m\u001b[0ma\u001b[0m\u001b[0;34m)\u001b[0m\u001b[0;34m\u001b[0m\u001b[0m\n\u001b[1;32m    598\u001b[0m     \u001b[0msignature\u001b[0m \u001b[0;34m=\u001b[0m \u001b[0;34m'D->D'\u001b[0m \u001b[0;32mif\u001b[0m \u001b[0misComplexType\u001b[0m\u001b[0;34m(\u001b[0m\u001b[0mt\u001b[0m\u001b[0;34m)\u001b[0m \u001b[0;32melse\u001b[0m \u001b[0;34m'd->d'\u001b[0m\u001b[0;34m\u001b[0m\u001b[0m\n\u001b[0;32m--> 599\u001b[0;31m     \u001b[0mr\u001b[0m \u001b[0;34m=\u001b[0m \u001b[0mgufunc\u001b[0m\u001b[0;34m(\u001b[0m\u001b[0ma\u001b[0m\u001b[0;34m,\u001b[0m \u001b[0msignature\u001b[0m\u001b[0;34m=\u001b[0m\u001b[0msignature\u001b[0m\u001b[0;34m,\u001b[0m \u001b[0mextobj\u001b[0m\u001b[0;34m=\u001b[0m\u001b[0mextobj\u001b[0m\u001b[0;34m)\u001b[0m\u001b[0;34m\u001b[0m\u001b[0m\n\u001b[0m\u001b[1;32m    600\u001b[0m     \u001b[0;32mreturn\u001b[0m \u001b[0mwrap\u001b[0m\u001b[0;34m(\u001b[0m\u001b[0mr\u001b[0m\u001b[0;34m.\u001b[0m\u001b[0mastype\u001b[0m\u001b[0;34m(\u001b[0m\u001b[0mresult_t\u001b[0m\u001b[0;34m,\u001b[0m \u001b[0mcopy\u001b[0m\u001b[0;34m=\u001b[0m\u001b[0;32mFalse\u001b[0m\u001b[0;34m)\u001b[0m\u001b[0;34m)\u001b[0m\u001b[0;34m\u001b[0m\u001b[0m\n\u001b[1;32m    601\u001b[0m \u001b[0;34m\u001b[0m\u001b[0m\n",
      "\u001b[0;32m/Library/Frameworks/Python.framework/Versions/3.4/lib/python3.4/site-packages/numpy/linalg/linalg.py\u001b[0m in \u001b[0;36m_raise_linalgerror_nonposdef\u001b[0;34m(err, flag)\u001b[0m\n\u001b[1;32m     91\u001b[0m \u001b[0;34m\u001b[0m\u001b[0m\n\u001b[1;32m     92\u001b[0m \u001b[0;32mdef\u001b[0m \u001b[0m_raise_linalgerror_nonposdef\u001b[0m\u001b[0;34m(\u001b[0m\u001b[0merr\u001b[0m\u001b[0;34m,\u001b[0m \u001b[0mflag\u001b[0m\u001b[0;34m)\u001b[0m\u001b[0;34m:\u001b[0m\u001b[0;34m\u001b[0m\u001b[0m\n\u001b[0;32m---> 93\u001b[0;31m     \u001b[0;32mraise\u001b[0m \u001b[0mLinAlgError\u001b[0m\u001b[0;34m(\u001b[0m\u001b[0;34m\"Matrix is not positive definite\"\u001b[0m\u001b[0;34m)\u001b[0m\u001b[0;34m\u001b[0m\u001b[0m\n\u001b[0m\u001b[1;32m     94\u001b[0m \u001b[0;34m\u001b[0m\u001b[0m\n\u001b[1;32m     95\u001b[0m \u001b[0;32mdef\u001b[0m \u001b[0m_raise_linalgerror_eigenvalues_nonconvergence\u001b[0m\u001b[0;34m(\u001b[0m\u001b[0merr\u001b[0m\u001b[0;34m,\u001b[0m \u001b[0mflag\u001b[0m\u001b[0;34m)\u001b[0m\u001b[0;34m:\u001b[0m\u001b[0;34m\u001b[0m\u001b[0m\n",
      "\u001b[0;31mLinAlgError\u001b[0m: Matrix is not positive definite"
     ]
    }
   ],
   "source": [
    "np.linalg.cholesky(S_un_[0, 0, :37, :37])"
   ]
  },
  {
   "cell_type": "code",
   "execution_count": 595,
   "metadata": {
    "collapsed": true
   },
   "outputs": [],
   "source": [
    "sess.close()"
   ]
  },
  {
   "cell_type": "code",
   "execution_count": null,
   "metadata": {
    "collapsed": true
   },
   "outputs": [],
   "source": []
  }
 ],
 "metadata": {
  "kernelspec": {
   "display_name": "Python 3",
   "language": "python",
   "name": "python3"
  },
  "language_info": {
   "codemirror_mode": {
    "name": "ipython",
    "version": 3
   },
   "file_extension": ".py",
   "mimetype": "text/x-python",
   "name": "python",
   "nbconvert_exporter": "python",
   "pygments_lexer": "ipython3",
   "version": "3.4.3"
  }
 },
 "nbformat": 4,
 "nbformat_minor": 0
}
