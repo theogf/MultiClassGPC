{
 "cells": [
  {
   "cell_type": "code",
   "execution_count": 181,
   "metadata": {
    "collapsed": false
   },
   "outputs": [],
   "source": [
    "import numpy as np\n",
    "from sklearn.preprocessing import OneHotEncoder\n",
    "from sklearn.metrics import confusion_matrix\n",
    "from collections import defaultdict\n",
    "import operator"
   ]
  },
  {
   "cell_type": "markdown",
   "metadata": {},
   "source": [
    "## data"
   ]
  },
  {
   "cell_type": "code",
   "execution_count": 320,
   "metadata": {
    "collapsed": true
   },
   "outputs": [],
   "source": [
    "def produce_data(filename):\n",
    "    file = open(filename)\n",
    "    sentences = []\n",
    "    pos = []\n",
    "    labels = []\n",
    "    sentence, sentence_pos, sentence_labels = [], [], []\n",
    "    \n",
    "    for entry in file:\n",
    "        if len(entry.split(' ')) == 1:\n",
    "            sentences.append(sentence)\n",
    "            labels.append(sentence_labels)\n",
    "            pos.append(sentence_pos)\n",
    "            sentence, sentence_pos, sentence_labels = [], [], []\n",
    "        else:\n",
    "            word, word_pos, word_label = entry.split(' ')\n",
    "            sentence.append(word.lower())\n",
    "            sentence_pos.append(word_pos)\n",
    "            sentence_labels.append(word_label[0])\n",
    "    file.close()\n",
    "    return sentences, pos, labels\n",
    "\n",
    "def produce_onehot(sentences, word_lst=None):\n",
    "    if word_lst is None:\n",
    "        word_lst = get_word_lst(sentences)\n",
    "    \n",
    "    num_words = len(word_lst) + 1\n",
    "    \n",
    "    vectors, sentence_vectors = [], []\n",
    "    for sentence in sentences:\n",
    "        sentence_vectors = []\n",
    "        for word in sentence:\n",
    "            vector = np.zeros((num_words))\n",
    "            if word in word_lst:\n",
    "                vector[word_lst.index(word)] = 1.\n",
    "            else:\n",
    "                vector[-1] = 1.\n",
    "            sentence_vectors.append(vector)\n",
    "            \n",
    "        vectors.append(sentence_vectors)\n",
    "    return vectors, word_lst\n",
    "\n",
    "def find_in_list(lst, elem):\n",
    "    if elem in lst:\n",
    "        return(lst.index(elem))\n",
    "    return 0\n",
    "\n",
    "def process_pos(pos, pos_set=None):\n",
    "    if pos_set is None:\n",
    "        pos_set = list(set([elem for sentence in pos for elem in sentence]))\n",
    "        pos_set = [\"Unknown\"] + pos_set\n",
    "    pos_indexed = [[find_in_list(pos_set, elem) for elem in sentence] for sentence in pos]\n",
    "    pos_onehot = []\n",
    "    for sentence in pos_indexed:\n",
    "        sentence_onehot = []\n",
    "        for word in sentence:\n",
    "            word_onehot = np.zeros((len(pos_set)))\n",
    "            word_onehot[word] = 1.\n",
    "            sentence_onehot.append(word_onehot)\n",
    "        pos_onehot.append(sentence_onehot)\n",
    "    return pos_onehot, pos_set\n",
    "\n",
    "def process_labels(labels):\n",
    "    new_labels = []\n",
    "    for sentence in labels:\n",
    "        sentence_labels = []\n",
    "        for word in sentence:\n",
    "            if word == 'B':\n",
    "                word_label = 0\n",
    "            if word == 'I':\n",
    "                word_label = 1\n",
    "            if word == 'O':\n",
    "                word_label = 2\n",
    "            sentence_labels.append(word_label)\n",
    "        sentence_labels = np.array(sentence_labels)\n",
    "        new_labels.append(sentence_labels)\n",
    "    return new_labels\n",
    "\n",
    "def concat_features(vectors, one_hot):\n",
    "    new_features = []\n",
    "    for v_sentence, p_sentence in list(zip(vectors, one_hot)):\n",
    "        sentence_features = []\n",
    "        for v_word, p_word in list(zip(v_sentence, p_sentence)):\n",
    "#             print(p_word.shape)\n",
    "#             print(v_word.shape)\n",
    "            word_features = np.concatenate([v_word, p_word])[None, :]\n",
    "            sentence_features.append(word_features)\n",
    "        sentence_features = np.concatenate(sentence_features)\n",
    "        new_features.append(sentence_features)\n",
    "    return new_features\n",
    "\n",
    "def get_word_lst(sentences):\n",
    "    word_lst = []\n",
    "    for sentence in sentences:\n",
    "        for word in sentence:\n",
    "            word_lst.append(word)\n",
    "    word_lst = list(set(word_lst))\n",
    "    return word_lst\n",
    "    \n",
    "def get_word_lst_file(filename, n_sentesnces):\n",
    "    sentences, _, _ = produce_data(filename)\n",
    "    sentences = sentences[:n_sentesnces]\n",
    "    return get_word_lst(sentences)"
   ]
  },
  {
   "cell_type": "code",
   "execution_count": 321,
   "metadata": {
    "collapsed": true
   },
   "outputs": [],
   "source": [
    "def prepare_data(filename, pos_set=None, word_lst=None):\n",
    "    sentences, pos, labels = produce_data(filename)\n",
    "    vectors, word_lst = produce_onehot(sentences, word_lst)\n",
    "    pos_onehot, pos_set = process_pos(pos, pos_set)\n",
    "    indexed_labels = process_labels(labels)\n",
    "#     return pos_onehot\n",
    "    features = concat_features(vectors, pos_onehot)\n",
    "    return features, indexed_labels, pos_set, word_lst"
   ]
  },
  {
   "cell_type": "code",
   "execution_count": 322,
   "metadata": {
    "collapsed": false
   },
   "outputs": [],
   "source": [
    "words = get_word_lst_file('test.txt', 500)\n",
    "x_te, y_te, _, _ = prepare_data('test.txt', word_lst=words)"
   ]
  },
  {
   "cell_type": "code",
   "execution_count": 185,
   "metadata": {
    "collapsed": false
   },
   "outputs": [],
   "source": [
    "def pad(x, y):\n",
    "    maxlen = np.max([seq.shape[0] for seq in x])\n",
    "    D = x[0].shape[1]\n",
    "    padded_x = []\n",
    "    padded_y = []\n",
    "    seq_lens = []\n",
    "    for seq, labels in list(zip(x, y)):\n",
    "        seq_len = seq.shape[0]\n",
    "        padded_seq = np.concatenate([seq, np.zeros((maxlen - seq_len, D))])[None, :, :]\n",
    "        padded_labels = np.concatenate([labels, np.zeros((maxlen - seq_len))])[None, :]\n",
    "        padded_x.append(padded_seq)\n",
    "        padded_y.append(padded_labels)\n",
    "        seq_lens.append(seq_len)\n",
    "    return np.concatenate(padded_x), np.concatenate(padded_y), np.array(seq_lens)"
   ]
  },
  {
   "cell_type": "code",
   "execution_count": 193,
   "metadata": {
    "collapsed": true
   },
   "outputs": [],
   "source": [
    "def tosymbol(num):\n",
    "    return {0: 'B', 1: 'I', 2: 'O'}[num]\n",
    "\n",
    "def make_classification_data(x, y):\n",
    "    x_new, y_new = [], []\n",
    "    for seq, labels in list(zip(x, y)):\n",
    "        x_new.append(seq)\n",
    "        y_new.append(labels)\n",
    "    x_new = np.concatenate(x_new)\n",
    "    y_new = np.concatenate(y_new)\n",
    "    y_new[y_new == 1] = 0\n",
    "    y_new[y_new == 2] = 1\n",
    "    return x_new, y_new"
   ]
  },
  {
   "cell_type": "markdown",
   "metadata": {},
   "source": [
    "### Classification data"
   ]
  },
  {
   "cell_type": "code",
   "execution_count": 326,
   "metadata": {
    "collapsed": true
   },
   "outputs": [],
   "source": [
    "def get_word_dict(sentences):\n",
    "    word_dict = defaultdict(int)\n",
    "    for sentence in sentences:\n",
    "        for word in sentence:\n",
    "            word_dict[word] += 1\n",
    "    return word_dict\n",
    "    \n",
    "def get_word_dict_file(filename, n_sentesnces):\n",
    "    sentences, _, _ = produce_data(filename)\n",
    "    sentences = sentences[:n_sentesnces]\n",
    "    return get_word_dict(sentences)"
   ]
  },
  {
   "cell_type": "code",
   "execution_count": 358,
   "metadata": {
    "collapsed": true
   },
   "outputs": [],
   "source": [
    "words = get_word_dict_file('test.txt', 500)"
   ]
  },
  {
   "cell_type": "code",
   "execution_count": 359,
   "metadata": {
    "collapsed": false
   },
   "outputs": [],
   "source": [
    "words = sorted(words.items(), key=operator.itemgetter(1))"
   ]
  },
  {
   "cell_type": "code",
   "execution_count": 360,
   "metadata": {
    "collapsed": false
   },
   "outputs": [],
   "source": [
    "words = [word[0] for word in words if word[1] > 3]"
   ]
  },
  {
   "cell_type": "code",
   "execution_count": 361,
   "metadata": {
    "collapsed": false
   },
   "outputs": [
    {
     "data": {
      "text/plain": [
       "442"
      ]
     },
     "execution_count": 361,
     "metadata": {},
     "output_type": "execute_result"
    }
   ],
   "source": [
    "len(words)"
   ]
  },
  {
   "cell_type": "code",
   "execution_count": 386,
   "metadata": {
    "collapsed": true
   },
   "outputs": [],
   "source": [
    "# x_tr, y_tr, pos_set = prepare_data('train.txt', model)\n",
    "# words = get_word_lst_file('test.txt', 500)\n",
    "x_te, y_te, pos_set, word_lst = prepare_data('test.txt', word_lst=words)\n",
    "x_tr, y_tr = x_te[:500], y_te[:500]\n",
    "x_te, y_te = x_te[500:], y_te[500:]"
   ]
  },
  {
   "cell_type": "code",
   "execution_count": 387,
   "metadata": {
    "collapsed": false
   },
   "outputs": [],
   "source": [
    "x_te, y_te = make_classification_data(x_te, y_te)\n",
    "x_tr, y_tr = make_classification_data(x_tr, y_tr)"
   ]
  },
  {
   "cell_type": "code",
   "execution_count": 388,
   "metadata": {
    "collapsed": false
   },
   "outputs": [],
   "source": [
    "np.save('data_class/x_tr', x_tr[:, -43:])\n",
    "np.save('data_class/x_te', x_te[:, -43:])\n",
    "np.save('data_class/y_tr', y_tr)\n",
    "np.save('data_class/y_te', y_te)"
   ]
  },
  {
   "cell_type": "markdown",
   "metadata": {},
   "source": [
    "### Structured Prediction data"
   ]
  },
  {
   "cell_type": "code",
   "execution_count": 444,
   "metadata": {
    "collapsed": false
   },
   "outputs": [],
   "source": [
    "# x_tr, y_tr, pos_set = prepare_data('train.txt', model)\n",
    "# words = get_word_lst_file('test.txt', 500)\n",
    "x_te, y_te, _, _ = prepare_data('test.txt', word_lst=words)\n",
    "x_tr, y_tr = x_te[:500], y_te[:500]\n",
    "x_te, y_te = x_te[500:], y_te[500:]"
   ]
  },
  {
   "cell_type": "code",
   "execution_count": 445,
   "metadata": {
    "collapsed": false
   },
   "outputs": [],
   "source": [
    "x_te, y_te, seq_lens_te = pad(x_te, y_te)\n",
    "x_tr, y_tr, seq_lens_tr = pad(x_tr, y_tr)"
   ]
  },
  {
   "cell_type": "code",
   "execution_count": 446,
   "metadata": {
    "collapsed": true
   },
   "outputs": [],
   "source": [
    "x_te = x_te[:, :, -43:]\n",
    "x_tr = x_tr[:, :, -43:]"
   ]
  },
  {
   "cell_type": "markdown",
   "metadata": {},
   "source": [
    "## Pretrained embedding"
   ]
  },
  {
   "cell_type": "code",
   "execution_count": 447,
   "metadata": {
    "collapsed": true
   },
   "outputs": [],
   "source": [
    "P = np.load('P.npy')\n",
    "d, D = P.shape"
   ]
  },
  {
   "cell_type": "code",
   "execution_count": 448,
   "metadata": {
    "collapsed": false
   },
   "outputs": [],
   "source": [
    "x_tr_flat = x_tr.reshape([-1, D])\n",
    "x_te_flat = x_te.reshape([-1, D])"
   ]
  },
  {
   "cell_type": "code",
   "execution_count": 449,
   "metadata": {
    "collapsed": false
   },
   "outputs": [],
   "source": [
    "x_tr_flat = x_tr_flat.dot(P.T)\n",
    "x_te_flat = x_te_flat.dot(P.T)"
   ]
  },
  {
   "cell_type": "code",
   "execution_count": 450,
   "metadata": {
    "collapsed": false
   },
   "outputs": [],
   "source": [
    "x_tr = x_tr_flat.reshape(list(x_tr.shape[:2])+[d])\n",
    "x_te = x_te_flat.reshape(list(x_te.shape[:2])+[d])"
   ]
  },
  {
   "cell_type": "markdown",
   "metadata": {},
   "source": [
    "## Training"
   ]
  },
  {
   "cell_type": "code",
   "execution_count": 400,
   "metadata": {
    "collapsed": false
   },
   "outputs": [
    {
     "name": "stdout",
     "output_type": "stream",
     "text": [
      "The autoreload extension is already loaded. To reload it, use:\n",
      "  %reload_ext autoreload\n"
     ]
    }
   ],
   "source": [
    "import numpy as np\n",
    "import tensorflow as tf\n",
    "import t3f\n",
    "from scipy.spatial.distance import cdist\n",
    "from matplotlib import pyplot as plt\n",
    "from sklearn.preprocessing import StandardScaler\n",
    "\n",
    "from TTGP.gpstruct import TTGPstruct\n",
    "from TTGP import grid\n",
    "from TTGP.covariance import SE_multidim, BinaryKernel\n",
    "from TTGP.projectors import LinearProjector, Identity\n",
    "%load_ext autoreload\n",
    "%autoreload 2\n",
    "\n",
    "%matplotlib inline"
   ]
  },
  {
   "cell_type": "code",
   "execution_count": 451,
   "metadata": {
    "collapsed": false
   },
   "outputs": [],
   "source": [
    "D = x_tr.shape[-1]\n",
    "# d = 3\n",
    "n_labels = 3"
   ]
  },
  {
   "cell_type": "code",
   "execution_count": 452,
   "metadata": {
    "collapsed": false,
    "scrolled": true
   },
   "outputs": [],
   "source": [
    "x_tr_flat = x_tr.reshape([-1, D])\n",
    "x_te_flat = x_te.reshape([-1, D])"
   ]
  },
  {
   "cell_type": "code",
   "execution_count": 453,
   "metadata": {
    "collapsed": true
   },
   "outputs": [],
   "source": [
    "scaler = StandardScaler()\n",
    "x_tr_flat = scaler.fit_transform(x_tr_flat)/3\n",
    "x_te_flat = scaler.transform(x_te_flat)/3"
   ]
  },
  {
   "cell_type": "code",
   "execution_count": 454,
   "metadata": {
    "collapsed": true
   },
   "outputs": [],
   "source": [
    "x_tr = x_tr_flat.reshape(x_tr.shape)\n",
    "x_te = x_te_flat.reshape(x_te.shape)"
   ]
  },
  {
   "cell_type": "code",
   "execution_count": 455,
   "metadata": {
    "collapsed": true
   },
   "outputs": [],
   "source": [
    "x_tr[x_tr > 1] = 1\n",
    "x_tr[x_tr < -1] = -1\n",
    "x_te[x_te > 1] = 1\n",
    "x_te[x_te < -1] = -1"
   ]
  },
  {
   "cell_type": "markdown",
   "metadata": {},
   "source": [
    "### GP"
   ]
  },
  {
   "cell_type": "code",
   "execution_count": 456,
   "metadata": {
    "collapsed": true
   },
   "outputs": [],
   "source": [
    "tf.reset_default_graph()"
   ]
  },
  {
   "cell_type": "code",
   "execution_count": 457,
   "metadata": {
    "collapsed": false
   },
   "outputs": [],
   "source": [
    "num = 10\n",
    "inputs = grid.InputsGrid(d, left=-1., right=1., npoints=num)\n",
    "projector = Identity(D)#LinearProjector(d=d, D=D)\n",
    "cov = SE_multidim(n_labels, .7, .3, .1, projector)\n",
    "bin_cov = BinaryKernel(n_labels, alpha=1.)"
   ]
  },
  {
   "cell_type": "code",
   "execution_count": 458,
   "metadata": {
    "collapsed": false
   },
   "outputs": [],
   "source": [
    "mu_ranks = 10\n",
    "gp = TTGPstruct(cov, bin_cov, inputs, mu_ranks)"
   ]
  },
  {
   "cell_type": "code",
   "execution_count": 459,
   "metadata": {
    "collapsed": false
   },
   "outputs": [],
   "source": [
    "x_tr_ = tf.constant(x_tr)[:150]\n",
    "x_te_ = tf.constant(x_te)\n",
    "y_tr_ = tf.constant(y_tr)[:150]\n",
    "y_te_ = tf.constant(y_te)\n",
    "seq_lens_tr_ = tf.constant(seq_lens_tr)[:150]\n",
    "seq_lens_te_ = tf.constant(seq_lens_te)"
   ]
  },
  {
   "cell_type": "code",
   "execution_count": 460,
   "metadata": {
    "collapsed": false
   },
   "outputs": [],
   "source": [
    "N = x_tr.shape[0]\n",
    "global_step = tf.Variable(0, trainable=False)\n",
    "lr = tf.train.exponential_decay(1e-2, global_step, \n",
    "                                        100, 0.5, staircase=True)"
   ]
  },
  {
   "cell_type": "code",
   "execution_count": 461,
   "metadata": {
    "collapsed": false
   },
   "outputs": [
    {
     "name": "stdout",
     "output_type": "stream",
     "text": [
      "_latent_vars_distribution/x_flat (?, 4) = sum_len x 4\n",
      "_latent_vars_distribution/m_un_flat <unknown> = sum_len x 3\n",
      "cov_for_squared_dists/cov (3, 150, 63, 63) = [3, 150, 63, 63]\n",
      "_Knns/K_nn (3, 150, 63, 63) = 3 x 150 x 63 x 63\n",
      "_sample_f/f_un (3, 150, 63) = 3 150 63\n",
      "_sample_f/f_bin (9,) = 9\n"
     ]
    }
   ],
   "source": [
    "elbo_op, train_op = gp.fit(x_tr_, y_tr_, seq_lens_tr_, N, lr, global_step)"
   ]
  },
  {
   "cell_type": "markdown",
   "metadata": {},
   "source": [
    "### Learning"
   ]
  },
  {
   "cell_type": "code",
   "execution_count": 462,
   "metadata": {
    "collapsed": true
   },
   "outputs": [],
   "source": [
    "sess = tf.Session()\n",
    "gp.initialize(sess)\n",
    "sess.run(tf.global_variables_initializer())\n",
    "elbo_vals = []"
   ]
  },
  {
   "cell_type": "code",
   "execution_count": null,
   "metadata": {
    "collapsed": true
   },
   "outputs": [],
   "source": [
    "def eval_method(y, y_pred):\n",
    "    sum = 0\n",
    "    sum_len = 0\n",
    "    confusion_mat = np.zeros((3, 3))\n",
    "    for y, pred in list(zip(y, y_pred)):\n",
    "        confusion_mat += confusion_matrix(y[:len(pred)], np.array(pred), labels=[0, 1, 2])\n",
    "        sum += np.sum(y[:len(pred)] == np.array(pred))\n",
    "        sum_len += len(pred)\n",
    "    return sum / sum_len, confusion_mat"
   ]
  },
  {
   "cell_type": "code",
   "execution_count": null,
   "metadata": {
    "collapsed": false
   },
   "outputs": [
    {
     "name": "stdout",
     "output_type": "stream",
     "text": [
      "0 106.66256078\n",
      "_latent_vars_distribution/x_flat (?, 4) = sum_len x 4\n",
      "_latent_vars_distribution/m_un_flat <unknown> = sum_len x 3\n",
      "cov_for_squared_dists/cov (3, 323, 63, 63) = [3, 323, 63, 63]\n",
      "_Knns/K_nn (3, 323, 63, 63) = 3 x 323 x 63 x 63\n",
      "accuracy: 0.579912775782\n",
      "1 99.7785984581\n",
      "2 105.568629741\n",
      "3 99.4303788303\n",
      "4 118.471852451\n",
      "5 100.829629966\n",
      "6 106.100821721\n",
      "7 120.497098574\n",
      "8 82.3556674405\n",
      "9 107.938501944\n",
      "10 111.417779813\n",
      "11 75.8981637913\n",
      "12 100.871310379\n",
      "13 95.8816162064\n",
      "14 79.1969624827\n",
      "15 102.765613866\n",
      "16 91.4868455199\n",
      "17 74.4281773635\n",
      "18 86.6347660266\n",
      "19 85.9956305808\n",
      "20 79.7459536229\n",
      "_latent_vars_distribution/x_flat (?, 4) = sum_len x 4\n",
      "_latent_vars_distribution/m_un_flat <unknown> = sum_len x 3\n",
      "cov_for_squared_dists/cov"
     ]
    }
   ],
   "source": [
    "maxiter = 500\n",
    "eval_freq = 20\n",
    "\n",
    "for i in range(maxiter):\n",
    "    _, elbo = sess.run([train_op, elbo_op])\n",
    "    print(i, elbo)\n",
    "    elbo_vals.append(elbo)\n",
    "    if not i%eval_freq:\n",
    "        preds = gp.predict(x_te_, seq_lens_te_, sess)\n",
    "        acc, conf = eval_method(y_te, preds)\n",
    "        print('accuracy:', acc)"
   ]
  },
  {
   "cell_type": "code",
   "execution_count": 260,
   "metadata": {
    "collapsed": true
   },
   "outputs": [],
   "source": [
    "sess.close()"
   ]
  },
  {
   "cell_type": "code",
   "execution_count": 415,
   "metadata": {
    "collapsed": false
   },
   "outputs": [
    {
     "data": {
      "text/plain": [
       "[<matplotlib.lines.Line2D at 0x19f192860>]"
      ]
     },
     "execution_count": 415,
     "metadata": {},
     "output_type": "execute_result"
    },
    {
     "data": {
      "image/png": "[encoded data removed]",
      "text/plain": [
       "<matplotlib.figure.Figure at 0x15a7151d0>"
      ]
     },
     "metadata": {},
     "output_type": "display_data"
    }
   ],
   "source": [
    "plt.plot(elbo_vals)"
   ]
  },
  {
   "cell_type": "markdown",
   "metadata": {},
   "source": [
    "Prediction"
   ]
  },
  {
   "cell_type": "code",
   "execution_count": 416,
   "metadata": {
    "collapsed": false
   },
   "outputs": [
    {
     "name": "stdout",
     "output_type": "stream",
     "text": [
      "_latent_vars_distribution/x_flat (?, 3) = sum_len x 3\n",
      "_latent_vars_distribution/m_un_flat <unknown> = sum_len x 3\n",
      "cov_for_squared_dists/cov (3, 323, 63, 63) = [3, 323, 63, 63]\n",
      "_Knns/K_nn (3, 323, 63, 63) = 3 x 323 x 63 x 63\n"
     ]
    }
   ],
   "source": [
    "preds = gp.predict(x_te_, seq_lens_te_, sess)"
   ]
  },
  {
   "cell_type": "code",
   "execution_count": 426,
   "metadata": {
    "collapsed": true
   },
   "outputs": [],
   "source": [
    "sentences_te, _, _ = produce_data('test.txt')\n",
    "sentences_te = sentences_te[500:]"
   ]
  },
  {
   "cell_type": "code",
   "execution_count": 439,
   "metadata": {
    "collapsed": false
   },
   "outputs": [
    {
     "name": "stdout",
     "output_type": "stream",
     "text": [
      "y   pred\n",
      "\n",
      "O \t in\n",
      "B \t recent\n",
      "I \t weeks\n",
      "B ≠ I \t mr.\n",
      "I \t merksamer\n",
      "O \t has\n",
      "O \t approached\n",
      "B \t a\n",
      "I \t number\n",
      "O \t of\n",
      "B \t his\n",
      "I \t suppliers\n",
      "O \t and\n",
      "O \t asked\n",
      "B \t them\n",
      "O \t to\n",
      "O \t provide\n",
      "B \t letters\n",
      "O \t of\n",
      "B \t intent\n",
      "O \t saying\n",
      "B \t they\n",
      "O \t will\n",
      "O \t continue\n",
      "O \t shipping\n",
      "B \t merchandise\n",
      "O \t to\n",
      "B \t the\n",
      "I \t chain\n",
      "O \t following\n",
      "B \t the\n",
      "I \t buy-out\n",
      "O \t ,\n",
      "O \t say\n",
      "B \t those\n",
      "O ≠ I \t familiar\n",
      "O \t with\n",
      "B \t the\n",
      "I \t situation\n",
      "O \t .\n"
     ]
    }
   ],
   "source": [
    "i = 5\n",
    "y_te[i, :seq_lens_te[i]] == preds[i]\n",
    "# print(y_te[i])\n",
    "\n",
    "print('y   pred')\n",
    "print()\n",
    "for word, label, pred in list(zip(sentences_te[i], y_te[i].tolist(), preds[i])):\n",
    "    if label == pred:\n",
    "        print(tosymbol(int(label)), '\\t', word)\n",
    "    else:\n",
    "        print(tosymbol(int(label)), '≠', tosymbol(pred), '\\t', word)"
   ]
  },
  {
   "cell_type": "code",
   "execution_count": 249,
   "metadata": {
    "collapsed": true
   },
   "outputs": [],
   "source": [
    "for pred in preds:\n",
    "    if pred[0] == 1:\n",
    "        pred[0] = 0"
   ]
  },
  {
   "cell_type": "code",
   "execution_count": 420,
   "metadata": {
    "collapsed": false
   },
   "outputs": [
    {
     "name": "stdout",
     "output_type": "stream",
     "text": [
      "0.914828116983\n"
     ]
    },
    {
     "data": {
      "text/plain": [
       "<matplotlib.colorbar.Colorbar at 0x19f92c7f0>"
      ]
     },
     "execution_count": 420,
     "metadata": {},
     "output_type": "execute_result"
    },
    {
     "data": {
      "image/png": "[encoded data removed]",
      "text/plain": [
       "<matplotlib.figure.Figure at 0x19f128f60>"
      ]
     },
     "metadata": {},
     "output_type": "display_data"
    }
   ],
   "source": [
    "acc, conf = eval_method(y_te, preds)\n",
    "print(acc)\n",
    "plt.imshow(conf, interpolation=\"Nearest\")\n",
    "plt.colorbar()"
   ]
  },
  {
   "cell_type": "code",
   "execution_count": 419,
   "metadata": {
    "collapsed": false
   },
   "outputs": [
    {
     "data": {
      "text/plain": [
       "0.95100051308363265"
      ]
     },
     "execution_count": 419,
     "metadata": {},
     "output_type": "execute_result"
    }
   ],
   "source": [
    "(np.sum(confusion_mat[:2, :2]) + confusion_mat[2, 2]) / np.sum(confusion_mat)"
   ]
  },
  {
   "cell_type": "code",
   "execution_count": 422,
   "metadata": {
    "collapsed": false
   },
   "outputs": [],
   "source": [
    "m_bin = sess.run(gp.bin_mu)"
   ]
  },
  {
   "cell_type": "code",
   "execution_count": 423,
   "metadata": {
    "collapsed": false
   },
   "outputs": [
    {
     "name": "stdout",
     "output_type": "stream",
     "text": [
      "-0.692548472487 B B\n",
      "0.982015259619 B I\n",
      "-0.280595302583 B O\n",
      "-0.862177120278 I B\n",
      "0.529287318787 I I\n",
      "-0.0127605323258 I O\n",
      "1.03122352756 O B\n",
      "-1.23564619949 O I\n",
      "0.704968294317 O O\n"
     ]
    }
   ],
   "source": [
    "for i in range(3):\n",
    "    for j in range(3):\n",
    "        print(m_bin[3 * i + j], tosymbol(i), tosymbol(j))"
   ]
  },
  {
   "cell_type": "code",
   "execution_count": 320,
   "metadata": {
    "collapsed": false
   },
   "outputs": [
    {
     "data": {
      "text/plain": [
       "4.9847481144547272"
      ]
     },
     "execution_count": 320,
     "metadata": {},
     "output_type": "execute_result"
    }
   ],
   "source": [
    "sess.run(gp.bin_cov.alpha)"
   ]
  },
  {
   "cell_type": "code",
   "execution_count": 926,
   "metadata": {
    "collapsed": false
   },
   "outputs": [
    {
     "data": {
      "text/plain": [
       "(9, 9)"
      ]
     },
     "execution_count": 926,
     "metadata": {},
     "output_type": "execute_result"
    }
   ],
   "source": [
    "sigma_bin_l.shape"
   ]
  },
  {
   "cell_type": "code",
   "execution_count": null,
   "metadata": {
    "collapsed": true
   },
   "outputs": [],
   "source": [
    "sigma_bin = sigma_bin_l"
   ]
  },
  {
   "cell_type": "code",
   "execution_count": 727,
   "metadata": {
    "collapsed": false
   },
   "outputs": [
    {
     "data": {
      "text/plain": [
       "False"
      ]
     },
     "execution_count": 727,
     "metadata": {},
     "output_type": "execute_result"
    }
   ],
   "source": [
    "y == np.array(pred)"
   ]
  },
  {
   "cell_type": "code",
   "execution_count": 724,
   "metadata": {
    "collapsed": false
   },
   "outputs": [
    {
     "data": {
      "text/plain": [
       "[1, 1, 2, 2, 1, 2, 2, 0, 2, 2, 0, 2, 2, 0, 2, 2, 2, 1, 2]"
      ]
     },
     "execution_count": 724,
     "metadata": {},
     "output_type": "execute_result"
    }
   ],
   "source": [
    "pred"
   ]
  },
  {
   "cell_type": "code",
   "execution_count": null,
   "metadata": {
    "collapsed": true
   },
   "outputs": [],
   "source": [
    "y_te"
   ]
  },
  {
   "cell_type": "code",
   "execution_count": 716,
   "metadata": {
    "collapsed": false
   },
   "outputs": [
    {
     "data": {
      "text/plain": [
       "28"
      ]
     },
     "execution_count": 716,
     "metadata": {},
     "output_type": "execute_result"
    }
   ],
   "source": [
    "len(preds[0])"
   ]
  },
  {
   "cell_type": "code",
   "execution_count": 710,
   "metadata": {
    "collapsed": false
   },
   "outputs": [
    {
     "data": {
      "text/plain": [
       "0.0"
      ]
     },
     "execution_count": 710,
     "metadata": {},
     "output_type": "execute_result"
    }
   ],
   "source": [
    "np.sum(y_te == preds) / preds.size"
   ]
  },
  {
   "cell_type": "code",
   "execution_count": 614,
   "metadata": {
    "collapsed": false
   },
   "outputs": [
    {
     "name": "stdout",
     "output_type": "stream",
     "text": [
      "_latent_vars_distribution/x_flat (?, 339) = sum_len x 339\n",
      "_latent_vars_distribution/m_un_flat <unknown> = sum_len x 3\n",
      "cov_for_squared_dists/cov (3, 77, 50, 50) = [3, 77, 50, 50]\n",
      "_Knns/K_nn (3, 77, 50, 50) = 3 x 77 x 50 x 50\n"
     ]
    }
   ],
   "source": [
    "m_un, S_un, m_bin, S_bin = gp._latent_vars_distribution(x_tr_, seq_lens_tr_)"
   ]
  },
  {
   "cell_type": "code",
   "execution_count": 611,
   "metadata": {
    "collapsed": false
   },
   "outputs": [
    {
     "data": {
      "text/plain": [
       "array([[ 0.,  1.,  1., ...,  0.,  0.,  0.],\n",
       "       [ 0.,  2.,  0., ...,  0.,  0.,  0.],\n",
       "       [ 0.,  2.,  2., ...,  0.,  0.,  0.],\n",
       "       ..., \n",
       "       [ 0.,  1.,  1., ...,  0.,  0.,  0.],\n",
       "       [ 0.,  1.,  1., ...,  0.,  0.,  0.],\n",
       "       [ 0.,  1.,  1., ...,  0.,  0.,  0.]])"
      ]
     },
     "execution_count": 611,
     "metadata": {},
     "output_type": "execute_result"
    }
   ],
   "source": [
    "\n",
    "y_te"
   ]
  },
  {
   "cell_type": "code",
   "execution_count": 615,
   "metadata": {
    "collapsed": true
   },
   "outputs": [],
   "source": [
    "S_un_ = sess.run(S_un)"
   ]
  },
  {
   "cell_type": "code",
   "execution_count": 622,
   "metadata": {
    "collapsed": false
   },
   "outputs": [
    {
     "data": {
      "text/plain": [
       "0.4705951739073676"
      ]
     },
     "execution_count": 622,
     "metadata": {},
     "output_type": "execute_result"
    }
   ],
   "source": [
    "S_un_[0, 0, 24, 24]"
   ]
  },
  {
   "cell_type": "code",
   "execution_count": 621,
   "metadata": {
    "collapsed": false
   },
   "outputs": [
    {
     "data": {
      "text/plain": [
       "0.4705951739073676"
      ]
     },
     "execution_count": 621,
     "metadata": {},
     "output_type": "execute_result"
    }
   ],
   "source": [
    "S_un_[0, 0, 24, 7]"
   ]
  },
  {
   "cell_type": "code",
   "execution_count": 665,
   "metadata": {
    "collapsed": true
   },
   "outputs": [],
   "source": [
    "def _compute_chol(seq_lens, cov_mat):\n",
    "\n",
    "    n_labels, batch_size, max_len, _ = cov_mat.get_shape().as_list()\n",
    "    sequence_mask = tf.logical_not(tf.sequence_mask(seq_lens, maxlen=max_len))\n",
    "    sequence_mask = tf.cast(sequence_mask, tf.float64)\n",
    "    I = tf.eye(max_len, batch_shape=[n_labels, batch_size], dtype=tf.float64)\n",
    "     # We add ones on diagonals in the meaningless dimensions of covs.\n",
    "    new_cov_mat = cov_mat + tf.einsum('lsij,si->lsij', I, sequence_mask)\n",
    " \n",
    "         # NOTE: if same word (x) is repeated the matrix becomes singular\n",
    "         # ugly solution\n",
    "    new_cov_mat = new_cov_mat + 0.1 * I\n",
    " \n",
    "    return new_cov_mat"
   ]
  },
  {
   "cell_type": "code",
   "execution_count": 666,
   "metadata": {
    "collapsed": true
   },
   "outputs": [],
   "source": [
    "ans = sess.run(_compute_chol(seq_lens_tr_, S_un))"
   ]
  },
  {
   "cell_type": "code",
   "execution_count": 667,
   "metadata": {
    "collapsed": false
   },
   "outputs": [
    {
     "data": {
      "text/plain": [
       "-7.8457487274626774e-15"
      ]
     },
     "execution_count": 667,
     "metadata": {},
     "output_type": "execute_result"
    }
   ],
   "source": [
    "np.linalg.det(ans[0, 56])"
   ]
  },
  {
   "cell_type": "code",
   "execution_count": 682,
   "metadata": {
    "collapsed": false
   },
   "outputs": [
    {
     "data": {
      "text/plain": [
       "0.15925627839341569"
      ]
     },
     "execution_count": 682,
     "metadata": {},
     "output_type": "execute_result"
    }
   ],
   "source": [
    "np.linalg.det(S_un_[0, 56] +0.5 * np.eye(50))"
   ]
  },
  {
   "cell_type": "code",
   "execution_count": 672,
   "metadata": {
    "collapsed": false
   },
   "outputs": [
    {
     "data": {
      "text/plain": [
       "array([ 0.301,  0.301,  0.301])"
      ]
     },
     "execution_count": 672,
     "metadata": {},
     "output_type": "execute_result"
    }
   ],
   "source": [
    "sess.run(gp.cov.l)"
   ]
  },
  {
   "cell_type": "code",
   "execution_count": 685,
   "metadata": {
    "collapsed": false
   },
   "outputs": [],
   "source": [
    "ans_ = ans[0, 56]\n",
    "ans_[ans_ < 0] = 0"
   ]
  },
  {
   "cell_type": "code",
   "execution_count": 671,
   "metadata": {
    "collapsed": false
   },
   "outputs": [
    {
     "data": {
      "text/plain": [
       "array([ 0.728,  0.728,  0.728])"
      ]
     },
     "execution_count": 671,
     "metadata": {},
     "output_type": "execute_result"
    }
   ],
   "source": [
    "sess.run(gp.cov.sigma_f)"
   ]
  },
  {
   "cell_type": "code",
   "execution_count": 668,
   "metadata": {
    "collapsed": false
   },
   "outputs": [
    {
     "data": {
      "text/plain": [
       "<matplotlib.colorbar.Colorbar at 0x173602b00>"
      ]
     },
     "execution_count": 668,
     "metadata": {},
     "output_type": "execute_result"
    },
    {
     "data": {
      "image/png": "[encoded data removed]",
      "text/plain": [
       "<matplotlib.figure.Figure at 0x181015860>"
      ]
     },
     "metadata": {},
     "output_type": "display_data"
    }
   ],
   "source": [
    "plt.imshow(S_un_[0, 56], interpolation=\"nearest\")\n",
    "plt.colorbar()"
   ]
  },
  {
   "cell_type": "code",
   "execution_count": 655,
   "metadata": {
    "collapsed": false
   },
   "outputs": [
    {
     "data": {
      "text/plain": [
       "<matplotlib.colorbar.Colorbar at 0x17f09c438>"
      ]
     },
     "execution_count": 655,
     "metadata": {},
     "output_type": "execute_result"
    },
    {
     "data": {
      "image/png": "[encoded data removed]",
      "text/plain": [
       "<matplotlib.figure.Figure at 0x17a1091d0>"
      ]
     },
     "metadata": {},
     "output_type": "display_data"
    }
   ],
   "source": [
    "plt.imshow(ans[0, 56], interpolation=\"nearest\")\n",
    "plt.colorbar()"
   ]
  },
  {
   "cell_type": "code",
   "execution_count": 630,
   "metadata": {
    "collapsed": false
   },
   "outputs": [
    {
     "data": {
      "text/plain": [
       "array([[  7.660e-01,   0.000e+00,   0.000e+00, ...,   0.000e+00,\n",
       "          0.000e+00,   0.000e+00],\n",
       "       [ -6.851e-06,   7.553e-01,   0.000e+00, ...,   0.000e+00,\n",
       "          0.000e+00,   0.000e+00],\n",
       "       [  7.551e-05,  -1.388e-02,   7.460e-01, ...,   0.000e+00,\n",
       "          0.000e+00,   0.000e+00],\n",
       "       ..., \n",
       "       [ -7.580e-05,  -1.427e-02,  -3.549e-02, ...,   7.206e-01,\n",
       "          0.000e+00,   0.000e+00],\n",
       "       [ -1.254e-05,  -1.238e-02,   3.159e-04, ...,   3.770e-03,\n",
       "          7.527e-01,   0.000e+00],\n",
       "       [  3.977e-06,  -1.349e-02,  -4.332e-02, ...,  -1.477e-01,\n",
       "          3.389e-03,   7.001e-01]])"
      ]
     },
     "execution_count": 630,
     "metadata": {},
     "output_type": "execute_result"
    }
   ],
   "source": [
    "np.linalg.cholesky(S_un_[0, 0, :37, :37] + np.eye(37) * 0.1)"
   ]
  },
  {
   "cell_type": "code",
   "execution_count": 629,
   "metadata": {
    "collapsed": false
   },
   "outputs": [
    {
     "data": {
      "text/plain": [
       "<matplotlib.colorbar.Colorbar at 0x17a1eda58>"
      ]
     },
     "execution_count": 629,
     "metadata": {},
     "output_type": "execute_result"
    },
    {
     "data": {
      "image/png": "[encoded data removed]",
      "text/plain": [
       "<matplotlib.figure.Figure at 0x1733a5588>"
      ]
     },
     "metadata": {},
     "output_type": "display_data"
    }
   ],
   "source": [
    "plt.imshow(S_un_[0, 0, :37, :37] + np.eye(37) * 0.1, interpolation=\"nearest\")\n",
    "plt.colorbar()"
   ]
  },
  {
   "cell_type": "code",
   "execution_count": 618,
   "metadata": {
    "collapsed": false
   },
   "outputs": [
    {
     "ename": "LinAlgError",
     "evalue": "Matrix is not positive definite",
     "output_type": "error",
     "traceback": [
      "\u001b[0;31m---------------------------------------------------------------------------\u001b[0m",
      "\u001b[0;31mLinAlgError\u001b[0m                               Traceback (most recent call last)",
      "\u001b[0;32m<ipython-input-618-8c3b8fb000d4>\u001b[0m in \u001b[0;36m<module>\u001b[0;34m()\u001b[0m\n\u001b[0;32m----> 1\u001b[0;31m \u001b[0mnp\u001b[0m\u001b[0;34m.\u001b[0m\u001b[0mlinalg\u001b[0m\u001b[0;34m.\u001b[0m\u001b[0mcholesky\u001b[0m\u001b[0;34m(\u001b[0m\u001b[0mS_un_\u001b[0m\u001b[0;34m[\u001b[0m\u001b[0;36m0\u001b[0m\u001b[0;34m,\u001b[0m \u001b[0;36m0\u001b[0m\u001b[0;34m,\u001b[0m \u001b[0;34m:\u001b[0m\u001b[0;36m37\u001b[0m\u001b[0;34m,\u001b[0m \u001b[0;34m:\u001b[0m\u001b[0;36m37\u001b[0m\u001b[0;34m]\u001b[0m\u001b[0;34m)\u001b[0m\u001b[0;34m\u001b[0m\u001b[0m\n\u001b[0m",
      "\u001b[0;32m/Library/Frameworks/Python.framework/Versions/3.4/lib/python3.4/site-packages/numpy/linalg/linalg.py\u001b[0m in \u001b[0;36mcholesky\u001b[0;34m(a)\u001b[0m\n\u001b[1;32m    597\u001b[0m     \u001b[0mt\u001b[0m\u001b[0;34m,\u001b[0m \u001b[0mresult_t\u001b[0m \u001b[0;34m=\u001b[0m \u001b[0m_commonType\u001b[0m\u001b[0;34m(\u001b[0m\u001b[0ma\u001b[0m\u001b[0;34m)\u001b[0m\u001b[0;34m\u001b[0m\u001b[0m\n\u001b[1;32m    598\u001b[0m     \u001b[0msignature\u001b[0m \u001b[0;34m=\u001b[0m \u001b[0;34m'D->D'\u001b[0m \u001b[0;32mif\u001b[0m \u001b[0misComplexType\u001b[0m\u001b[0;34m(\u001b[0m\u001b[0mt\u001b[0m\u001b[0;34m)\u001b[0m \u001b[0;32melse\u001b[0m \u001b[0;34m'd->d'\u001b[0m\u001b[0;34m\u001b[0m\u001b[0m\n\u001b[0;32m--> 599\u001b[0;31m     \u001b[0mr\u001b[0m \u001b[0;34m=\u001b[0m \u001b[0mgufunc\u001b[0m\u001b[0;34m(\u001b[0m\u001b[0ma\u001b[0m\u001b[0;34m,\u001b[0m \u001b[0msignature\u001b[0m\u001b[0;34m=\u001b[0m\u001b[0msignature\u001b[0m\u001b[0;34m,\u001b[0m \u001b[0mextobj\u001b[0m\u001b[0;34m=\u001b[0m\u001b[0mextobj\u001b[0m\u001b[0;34m)\u001b[0m\u001b[0;34m\u001b[0m\u001b[0m\n\u001b[0m\u001b[1;32m    600\u001b[0m     \u001b[0;32mreturn\u001b[0m \u001b[0mwrap\u001b[0m\u001b[0;34m(\u001b[0m\u001b[0mr\u001b[0m\u001b[0;34m.\u001b[0m\u001b[0mastype\u001b[0m\u001b[0;34m(\u001b[0m\u001b[0mresult_t\u001b[0m\u001b[0;34m,\u001b[0m \u001b[0mcopy\u001b[0m\u001b[0;34m=\u001b[0m\u001b[0;32mFalse\u001b[0m\u001b[0;34m)\u001b[0m\u001b[0;34m)\u001b[0m\u001b[0;34m\u001b[0m\u001b[0m\n\u001b[1;32m    601\u001b[0m \u001b[0;34m\u001b[0m\u001b[0m\n",
      "\u001b[0;32m/Library/Frameworks/Python.framework/Versions/3.4/lib/python3.4/site-packages/numpy/linalg/linalg.py\u001b[0m in \u001b[0;36m_raise_linalgerror_nonposdef\u001b[0;34m(err, flag)\u001b[0m\n\u001b[1;32m     91\u001b[0m \u001b[0;34m\u001b[0m\u001b[0m\n\u001b[1;32m     92\u001b[0m \u001b[0;32mdef\u001b[0m \u001b[0m_raise_linalgerror_nonposdef\u001b[0m\u001b[0;34m(\u001b[0m\u001b[0merr\u001b[0m\u001b[0;34m,\u001b[0m \u001b[0mflag\u001b[0m\u001b[0;34m)\u001b[0m\u001b[0;34m:\u001b[0m\u001b[0;34m\u001b[0m\u001b[0m\n\u001b[0;32m---> 93\u001b[0;31m     \u001b[0;32mraise\u001b[0m \u001b[0mLinAlgError\u001b[0m\u001b[0;34m(\u001b[0m\u001b[0;34m\"Matrix is not positive definite\"\u001b[0m\u001b[0;34m)\u001b[0m\u001b[0;34m\u001b[0m\u001b[0m\n\u001b[0m\u001b[1;32m     94\u001b[0m \u001b[0;34m\u001b[0m\u001b[0m\n\u001b[1;32m     95\u001b[0m \u001b[0;32mdef\u001b[0m \u001b[0m_raise_linalgerror_eigenvalues_nonconvergence\u001b[0m\u001b[0;34m(\u001b[0m\u001b[0merr\u001b[0m\u001b[0;34m,\u001b[0m \u001b[0mflag\u001b[0m\u001b[0;34m)\u001b[0m\u001b[0;34m:\u001b[0m\u001b[0;34m\u001b[0m\u001b[0m\n",
      "\u001b[0;31mLinAlgError\u001b[0m: Matrix is not positive definite"
     ]
    }
   ],
   "source": [
    "np.linalg.cholesky(S_un_[0, 0, :37, :37])"
   ]
  },
  {
   "cell_type": "code",
   "execution_count": 595,
   "metadata": {
    "collapsed": true
   },
   "outputs": [],
   "source": [
    "sess.close()"
   ]
  },
  {
   "cell_type": "code",
   "execution_count": null,
   "metadata": {
    "collapsed": true
   },
   "outputs": [],
   "source": []
  }
 ],
 "metadata": {
  "kernelspec": {
   "display_name": "Python 3",
   "language": "python",
   "name": "python3"
  },
  "language_info": {
   "codemirror_mode": {
    "name": "ipython",
    "version": 3
   },
   "file_extension": ".py",
   "mimetype": "text/x-python",
   "name": "python",
   "nbconvert_exporter": "python",
   "pygments_lexer": "ipython3",
   "version": "3.4.3"
  }
 },
 "nbformat": 4,
 "nbformat_minor": 0
}
