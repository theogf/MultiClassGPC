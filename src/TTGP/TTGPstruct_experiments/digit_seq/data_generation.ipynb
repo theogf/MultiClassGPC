{
 "cells": [
  {
   "cell_type": "code",
   "execution_count": 1,
   "metadata": {
    "collapsed": true
   },
   "outputs": [],
   "source": [
    "import numpy as np\n",
    "from sklearn.datasets import load_digits\n",
    "from matplotlib import pyplot as plt\n",
    "from sklearn.preprocessing import StandardScaler\n",
    "%matplotlib inline"
   ]
  },
  {
   "cell_type": "markdown",
   "metadata": {},
   "source": [
    "## Loading Digits"
   ]
  },
  {
   "cell_type": "code",
   "execution_count": 2,
   "metadata": {
    "collapsed": false
   },
   "outputs": [],
   "source": [
    "digits = load_digits()"
   ]
  },
  {
   "cell_type": "code",
   "execution_count": 3,
   "metadata": {
    "collapsed": false
   },
   "outputs": [],
   "source": [
    "x = digits.data\n",
    "y = digits.target"
   ]
  },
  {
   "cell_type": "markdown",
   "metadata": {},
   "source": [
    "## Structured prediction problem"
   ]
  },
  {
   "cell_type": "code",
   "execution_count": 4,
   "metadata": {
    "collapsed": true
   },
   "outputs": [],
   "source": [
    "np.random.seed(417)\n",
    "z = np.random.randint(low=0, high=2, size=(150,3))"
   ]
  },
  {
   "cell_type": "code",
   "execution_count": 5,
   "metadata": {
    "collapsed": false
   },
   "outputs": [],
   "source": [
    "y_seq = np.cumsum(z, axis=1)"
   ]
  },
  {
   "cell_type": "code",
   "execution_count": 6,
   "metadata": {
    "collapsed": false
   },
   "outputs": [],
   "source": [
    "y_seq += np.random.randint(0, 4, size=y_seq.shape[0])[:, None]\n",
    "y_seq = y_seq % 4"
   ]
  },
  {
   "cell_type": "code",
   "execution_count": 7,
   "metadata": {
    "collapsed": false
   },
   "outputs": [],
   "source": [
    "def make_zeros(x, y):\n",
    "    zeros = x[y == 0]\n",
    "    i = 0\n",
    "    while True:\n",
    "        yield zeros[i]\n",
    "        i += 1\n",
    "\n",
    "        \n",
    "def make_ones(x, y):\n",
    "    ones = x[y == 1]\n",
    "    i = 0\n",
    "    while True:\n",
    "        yield ones[i]\n",
    "        i += 1\n",
    "\n",
    "        \n",
    "def make_twos(x, y):\n",
    "    twos = x[y == 2]\n",
    "    i = 0\n",
    "    while True:\n",
    "        yield twos[i]\n",
    "        i += 1\n",
    "\n",
    "        \n",
    "def make_threes(x, y):\n",
    "    threes = x[y == 3]\n",
    "    i = 0\n",
    "    while True:\n",
    "        yield threes[i]\n",
    "        i += 1\n"
   ]
  },
  {
   "cell_type": "code",
   "execution_count": 8,
   "metadata": {
    "collapsed": false
   },
   "outputs": [],
   "source": [
    "zeros = make_zeros(x, y)\n",
    "ones = make_ones(x, y)\n",
    "twos = make_twos(x, y)\n",
    "threes = make_threes(x, y)"
   ]
  },
  {
   "cell_type": "code",
   "execution_count": 9,
   "metadata": {
    "collapsed": false
   },
   "outputs": [],
   "source": [
    "seqs = []\n",
    "for seq_num in range(150):\n",
    "    seq = []\n",
    "    for elem in y_seq[seq_num]:\n",
    "        if elem == 0:\n",
    "            seq.append(next(zeros))\n",
    "        elif elem == 1:\n",
    "            seq.append(next(ones))\n",
    "        elif elem == 2:\n",
    "            seq.append(next(twos))\n",
    "        elif elem == 3:\n",
    "            seq.append(next(threes))\n",
    "    seqs.append(seq)\n",
    "seqs = np.array(seqs)"
   ]
  },
  {
   "cell_type": "code",
   "execution_count": 10,
   "metadata": {
    "collapsed": true
   },
   "outputs": [],
   "source": [
    "x_tr = seqs[:100]\n",
    "x_te = seqs[100:]\n",
    "y_tr = y_seq[:100]\n",
    "y_te = y_seq[100:]"
   ]
  },
  {
   "cell_type": "code",
   "execution_count": 23,
   "metadata": {
    "collapsed": true
   },
   "outputs": [],
   "source": [
    "# np.save('data_struct_raw/x_tr', x_tr)\n",
    "# np.save('data_struct_raw/y_tr', y_tr)\n",
    "# np.save('data_struct_raw/x_te', x_te)\n",
    "# np.save('data_struct_raw/y_te', y_te)"
   ]
  },
  {
   "cell_type": "code",
   "execution_count": 24,
   "metadata": {
    "collapsed": true
   },
   "outputs": [],
   "source": [
    "x_tr_flat = x_tr.reshape([-1, x_tr.shape[-1]])\n",
    "y_tr_flat = y_tr.reshape([-1])\n",
    "x_te_flat = x_te.reshape([-1, x_te.shape[-1]])\n",
    "y_te_flat = y_te.reshape([-1])"
   ]
  },
  {
   "cell_type": "code",
   "execution_count": 25,
   "metadata": {
    "collapsed": true
   },
   "outputs": [],
   "source": [
    "# np.save('data_class/x_tr', x_tr_flat)\n",
    "# np.save('data_class/y_tr', y_tr_flat)\n",
    "# np.save('data_class/x_te', x_te_flat)\n",
    "# np.save('data_class/y_te', y_te_flat)"
   ]
  },
  {
   "cell_type": "code",
   "execution_count": 11,
   "metadata": {
    "collapsed": false
   },
   "outputs": [],
   "source": [
    "P = np.load('P.npy')"
   ]
  },
  {
   "cell_type": "code",
   "execution_count": 12,
   "metadata": {
    "collapsed": false
   },
   "outputs": [
    {
     "data": {
      "text/plain": [
       "(2, 64)"
      ]
     },
     "execution_count": 12,
     "metadata": {},
     "output_type": "execute_result"
    }
   ],
   "source": [
    "P.shape"
   ]
  },
  {
   "cell_type": "code",
   "execution_count": 13,
   "metadata": {
    "collapsed": true
   },
   "outputs": [],
   "source": [
    "x_tr_proj = np.einsum('sij,kj->sik', x_tr, P)\n",
    "x_te_proj = np.einsum('sij,kj->sik', x_te, P)"
   ]
  },
  {
   "cell_type": "code",
   "execution_count": 14,
   "metadata": {
    "collapsed": true
   },
   "outputs": [],
   "source": [
    "np.save('data_struct_embed/x_tr', x_tr_proj)\n",
    "np.save('data_struct_embed/y_tr', y_tr)\n",
    "np.save('data_struct_embed/x_te', x_te_proj)\n",
    "np.save('data_struct_embed/y_te', y_te)"
   ]
  },
  {
   "cell_type": "code",
   "execution_count": null,
   "metadata": {
    "collapsed": true
   },
   "outputs": [],
   "source": []
  }
 ],
 "metadata": {
  "kernelspec": {
   "display_name": "Python 3",
   "language": "python",
   "name": "python3"
  },
  "language_info": {
   "codemirror_mode": {
    "name": "ipython",
    "version": 3
   },
   "file_extension": ".py",
   "mimetype": "text/x-python",
   "name": "python",
   "nbconvert_exporter": "python",
   "pygments_lexer": "ipython3",
   "version": "3.4.3"
  }
 },
 "nbformat": 4,
 "nbformat_minor": 0
}
