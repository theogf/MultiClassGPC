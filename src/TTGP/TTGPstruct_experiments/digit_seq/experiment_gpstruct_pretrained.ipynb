{
 "cells": [
  {
   "cell_type": "code",
   "execution_count": 10,
   "metadata": {
    "collapsed": false
   },
   "outputs": [
    {
     "name": "stdout",
     "output_type": "stream",
     "text": [
      "The autoreload extension is already loaded. To reload it, use:\n",
      "  %reload_ext autoreload\n"
     ]
    }
   ],
   "source": [
    "import numpy as np\n",
    "import tensorflow as tf\n",
    "import t3f\n",
    "from scipy.spatial.distance import cdist\n",
    "from matplotlib import pyplot as plt\n",
    "from sklearn.preprocessing import StandardScaler\n",
    "\n",
    "from TTGP.gpstruct import TTGPstruct\n",
    "from TTGP import grid\n",
    "from TTGP.covariance import SE_multidim, BinaryKernel\n",
    "from TTGP.projectors import Identity\n",
    "%load_ext autoreload\n",
    "%autoreload 2\n",
    "\n",
    "%matplotlib inline"
   ]
  },
  {
   "cell_type": "markdown",
   "metadata": {},
   "source": [
    "## Data Loading"
   ]
  },
  {
   "cell_type": "code",
   "execution_count": 2,
   "metadata": {
    "collapsed": false
   },
   "outputs": [],
   "source": [
    "x_tr = np.load('data_struct_embed/x_tr.npy')\n",
    "x_te = np.load('data_struct_embed/x_te.npy')\n",
    "y_tr = np.load('data_struct_embed/y_tr.npy')\n",
    "y_te = np.load('data_struct_embed/y_te.npy')"
   ]
  },
  {
   "cell_type": "code",
   "execution_count": 3,
   "metadata": {
    "collapsed": false
   },
   "outputs": [
    {
     "data": {
      "text/plain": [
       "(100, 3, 2)"
      ]
     },
     "execution_count": 3,
     "metadata": {},
     "output_type": "execute_result"
    }
   ],
   "source": [
    "x_tr.shape"
   ]
  },
  {
   "cell_type": "code",
   "execution_count": 4,
   "metadata": {
    "collapsed": true
   },
   "outputs": [],
   "source": [
    "D = x_tr.shape[-1]"
   ]
  },
  {
   "cell_type": "code",
   "execution_count": 5,
   "metadata": {
    "collapsed": false
   },
   "outputs": [],
   "source": [
    "x_tr_flat = x_tr.reshape([-1, D])\n",
    "x_te_flat = x_te.reshape([-1, D])"
   ]
  },
  {
   "cell_type": "code",
   "execution_count": 6,
   "metadata": {
    "collapsed": true
   },
   "outputs": [],
   "source": [
    "scaler = StandardScaler()\n",
    "x_tr_flat = scaler.fit_transform(x_tr_flat)/3\n",
    "x_te_flat = scaler.transform(x_te_flat)/3"
   ]
  },
  {
   "cell_type": "code",
   "execution_count": 7,
   "metadata": {
    "collapsed": true
   },
   "outputs": [],
   "source": [
    "x_tr = x_tr_flat.reshape(x_tr.shape)\n",
    "x_te = x_te_flat.reshape(x_te.shape)"
   ]
  },
  {
   "cell_type": "code",
   "execution_count": 8,
   "metadata": {
    "collapsed": true
   },
   "outputs": [],
   "source": [
    "x_tr[x_tr > 1] = 1\n",
    "x_tr[x_tr < -1] = -1\n",
    "x_te[x_te > 1] = 1\n",
    "x_te[x_te < -1] = -1"
   ]
  },
  {
   "cell_type": "code",
   "execution_count": 9,
   "metadata": {
    "collapsed": true
   },
   "outputs": [],
   "source": [
    "max_len = x_tr.shape[1]\n",
    "n_labels = 4\n",
    "n_seq = x_tr.shape[0]"
   ]
  },
  {
   "cell_type": "markdown",
   "metadata": {},
   "source": [
    "## GP"
   ]
  },
  {
   "cell_type": "code",
   "execution_count": 13,
   "metadata": {
    "collapsed": true
   },
   "outputs": [],
   "source": [
    "tf.reset_default_graph()"
   ]
  },
  {
   "cell_type": "code",
   "execution_count": 14,
   "metadata": {
    "collapsed": false
   },
   "outputs": [],
   "source": [
    "num = 10\n",
    "inputs = grid.InputsGrid(D, left=-1., right=1., npoints=num)\n",
    "projector = Identity(D)\n",
    "cov = SE_multidim(n_labels, .7, .3, .1, projector)\n",
    "cov_bin = BinaryKernel(n_labels, 1.)"
   ]
  },
  {
   "cell_type": "code",
   "execution_count": 17,
   "metadata": {
    "collapsed": false
   },
   "outputs": [],
   "source": [
    "mu_ranks = 5\n",
    "gp = TTGPstruct(cov, cov_bin, inputs, mu_ranks)"
   ]
  },
  {
   "cell_type": "markdown",
   "metadata": {},
   "source": [
    "## Graph Creation"
   ]
  },
  {
   "cell_type": "code",
   "execution_count": 18,
   "metadata": {
    "collapsed": true
   },
   "outputs": [],
   "source": [
    "seq_lens = np.ones(shape=(n_seq,)) * max_len"
   ]
  },
  {
   "cell_type": "code",
   "execution_count": 19,
   "metadata": {
    "collapsed": true
   },
   "outputs": [],
   "source": [
    "x_tr = tf.constant(x_tr)\n",
    "x_te = tf.constant(x_te)\n",
    "y_tr = tf.constant(y_tr)\n",
    "y_te = tf.constant(y_te)\n",
    "seq_lens = tf.constant(seq_lens)"
   ]
  },
  {
   "cell_type": "code",
   "execution_count": 20,
   "metadata": {
    "collapsed": true
   },
   "outputs": [],
   "source": [
    "N = n_seq\n",
    "global_step = tf.Variable(0, trainable=False)\n",
    "lr = tf.train.exponential_decay(1e-2, global_step, \n",
    "                                        50, 0.5, staircase=True)"
   ]
  },
  {
   "cell_type": "code",
   "execution_count": 28,
   "metadata": {
    "collapsed": false
   },
   "outputs": [
    {
     "name": "stdout",
     "output_type": "stream",
     "text": [
      "_latent_vars_distribution/x_flat (?, 2) = sum_len x 2\n",
      "_latent_vars_distribution/m_un_flat <unknown> = sum_len x 4\n",
      "cov_for_squared_dists/cov (4, 100, 3, 3) = [4, 100, 3, 3]\n",
      "_Knns/K_nn (4, 100, 3, 3) = 4 x 100 x 3 x 3\n",
      "_sample_f/f_un (4, 100, 3) = 4 100 3\n",
      "_sample_f/f_bin (16,) = 16\n"
     ]
    }
   ],
   "source": [
    "elbo_op, train_op = gp.fit(x_tr, y_tr, seq_lens, N, lr, global_step)"
   ]
  },
  {
   "cell_type": "markdown",
   "metadata": {},
   "source": [
    "## Learning"
   ]
  },
  {
   "cell_type": "code",
   "execution_count": 29,
   "metadata": {
    "collapsed": true
   },
   "outputs": [],
   "source": [
    "sess = tf.Session()\n",
    "gp.initialize(sess)\n",
    "sess.run(tf.global_variables_initializer())"
   ]
  },
  {
   "cell_type": "code",
   "execution_count": 30,
   "metadata": {
    "collapsed": false
   },
   "outputs": [
    {
     "name": "stdout",
     "output_type": "stream",
     "text": [
      "18229.7518925\n",
      "17605.7518204\n",
      "16716.6196479\n",
      "16015.2572985\n",
      "15251.2182545\n",
      "14541.0615795\n",
      "13909.4636342\n",
      "13300.8856197\n",
      "12704.3845934\n",
      "12151.1872072\n",
      "11642.2109216\n",
      "11155.3933918\n",
      "10679.9917525\n",
      "10226.4467823\n",
      "9808.32889676\n",
      "9421.55902769\n",
      "9055.0373137\n",
      "8698.79272085\n",
      "8356.93408154\n",
      "8036.40231266\n",
      "7735.8592038\n",
      "7453.86227184\n",
      "7183.56238411\n",
      "6924.79948597\n",
      "6677.74822032\n",
      "6443.62109657\n",
      "6222.89103051\n",
      "6012.61838534\n",
      "5812.40714496\n",
      "5619.85700309\n",
      "5436.76806094\n",
      "5263.26635327\n",
      "5098.03120001\n",
      "4939.80824917\n",
      "4785.27223811\n",
      "4639.36775689\n",
      "4501.69756435\n",
      "4370.35287057\n",
      "4242.09420692\n",
      "4120.46105061\n",
      "4001.82205242\n",
      "3888.83608466\n",
      "3780.66751238\n",
      "3676.52325681\n",
      "3577.00719288\n",
      "3478.38150348\n",
      "3386.4732077\n",
      "3298.68878527\n",
      "3211.52721993\n",
      "3128.86547209\n",
      "3047.72353658\n",
      "3009.34857085\n",
      "2970.68740916\n",
      "2934.08096418\n",
      "2896.58728742\n",
      "2860.48604139\n",
      "2824.99477811\n",
      "2792.3444778\n",
      "2758.94714753\n",
      "2724.95976386\n",
      "2691.86924395\n",
      "2659.71466358\n",
      "2628.65518491\n",
      "2597.87017461\n",
      "2566.59859159\n",
      "2536.65452961\n",
      "2508.84661653\n",
      "2477.85695934\n",
      "2449.86581203\n",
      "2421.86180553\n",
      "2392.73176198\n",
      "2364.82756751\n",
      "2338.16131807\n",
      "2310.4760082\n",
      "2284.50167824\n",
      "2258.20393326\n",
      "2231.47329677\n",
      "2206.93798404\n",
      "2180.66085801\n",
      "2156.0547281\n",
      "2131.48568417\n",
      "2107.14578529\n",
      "2082.80829272\n",
      "2059.77045463\n",
      "2034.41450422\n",
      "2010.37540823\n",
      "1987.95579169\n",
      "1965.32330157\n",
      "1942.20681163\n",
      "1920.59776888\n",
      "1898.11323629\n",
      "1876.2965299\n",
      "1854.55786926\n",
      "1833.65522167\n",
      "1812.84003086\n",
      "1792.66989635\n",
      "1771.66072534\n",
      "1750.82091442\n",
      "1731.39618585\n",
      "1711.10283749\n",
      "1691.66197934\n",
      "1680.54830643\n",
      "1671.10204724\n",
      "1661.59371871\n",
      "1652.8540566\n",
      "1642.35629529\n",
      "1633.13099446\n",
      "1623.56340695\n",
      "1614.81796923\n",
      "1604.8163447\n",
      "1595.07335085\n",
      "1587.38148508\n",
      "1577.68293286\n",
      "1567.19734425\n",
      "1560.40910565\n",
      "1550.03968908\n",
      "1542.36739244\n",
      "1531.70706058\n",
      "1523.16272882\n",
      "1515.44183871\n",
      "1506.11652274\n",
      "1498.14284681\n",
      "1488.62507543\n",
      "1479.02042244\n",
      "1471.26399183\n",
      "1461.21505547\n",
      "1452.99558191\n",
      "1445.68035258\n",
      "1437.24834762\n",
      "1428.97177108\n",
      "1419.9250473\n",
      "1411.56963938\n",
      "1400.93545294\n",
      "1394.05664638\n",
      "1384.67669403\n",
      "1376.36306985\n",
      "1370.59371794\n",
      "1361.18619214\n",
      "1353.57396759\n",
      "1345.55638435\n",
      "1336.35012681\n",
      "1329.65613372\n",
      "1321.24440185\n",
      "1313.06282151\n",
      "1304.70323086\n",
      "1295.90778722\n",
      "1288.47957083\n",
      "1282.89519535\n",
      "1273.39834213\n",
      "1265.4391133\n",
      "1257.07733055\n",
      "1254.77497438\n",
      "1250.21968762\n",
      "1245.74655158\n",
      "1243.77879147\n",
      "1240.05354344\n",
      "1235.40114897\n",
      "1231.59726474\n",
      "1228.03960727\n",
      "1224.18196289\n",
      "1220.88942367\n",
      "1215.30935132\n",
      "1212.88232327\n",
      "1209.91628116\n",
      "1205.00168566\n",
      "1201.86953858\n",
      "1196.75219301\n",
      "1194.41958085\n",
      "1189.55604045\n",
      "1186.58105168\n",
      "1182.15179443\n",
      "1178.43317532\n",
      "1175.87970184\n",
      "1171.47907293\n",
      "1166.42364357\n",
      "1163.63111224\n",
      "1160.15544152\n",
      "1156.69001145\n",
      "1152.80570304\n",
      "1148.9452876\n",
      "1145.06456164\n",
      "1141.68306642\n",
      "1139.54564803\n",
      "1135.33625622\n",
      "1129.79570526\n",
      "1127.56652768\n",
      "1123.36896499\n",
      "1120.26390274\n",
      "1116.20982573\n",
      "1113.38562427\n",
      "1109.46914592\n",
      "1105.68729844\n",
      "1102.5039712\n",
      "1098.59383612\n",
      "1095.61698432\n",
      "1092.18557517\n",
      "1088.13171967\n",
      "1084.59794733\n",
      "1080.67756578\n",
      "1077.55385472\n",
      "1074.28953355\n",
      "1071.28529778\n",
      "1069.46370185\n",
      "1067.42111757\n",
      "1066.18196338\n",
      "1064.58842405\n",
      "1063.75846615\n",
      "1060.42911215\n",
      "1059.24704303\n",
      "1058.35219362\n",
      "1056.09117663\n",
      "1053.86637832\n",
      "1052.45635736\n",
      "1050.98354679\n",
      "1049.19214616\n",
      "1047.61928322\n",
      "1045.63142344\n",
      "1043.64399691\n",
      "1042.55561419\n",
      "1039.88007731\n",
      "1039.14931696\n",
      "1038.29236231\n",
      "1035.6498869\n",
      "1033.58033287\n",
      "1031.51099122\n",
      "1029.83227885\n",
      "1026.36584467\n",
      "1026.56127452\n",
      "1023.59844216\n",
      "1021.90404987\n",
      "1020.29849042\n",
      "1019.06185271\n",
      "1016.31763004\n",
      "1015.19156623\n",
      "1014.32528612\n",
      "1012.90510359\n",
      "1010.85221274\n",
      "1008.25941601\n",
      "1007.66930199\n",
      "1004.36401309\n",
      "1004.22960148\n",
      "1002.81179219\n",
      "999.56310687\n",
      "997.42946051\n",
      "994.987257238\n",
      "994.113071708\n",
      "992.507881467\n",
      "989.424066314\n",
      "989.840959535\n",
      "988.14692051\n",
      "985.310557552\n",
      "983.377142477\n",
      "983.865239689\n",
      "983.609692568\n",
      "982.646120337\n",
      "982.111825974\n",
      "980.971365898\n",
      "979.445245334\n",
      "978.529399571\n",
      "978.578670118\n",
      "977.938934182\n",
      "975.628604957\n",
      "976.249420778\n",
      "973.62454236\n",
      "973.887510974\n",
      "972.382246058\n",
      "971.370800887\n",
      "970.716925712\n",
      "970.224943494\n",
      "968.980623801\n",
      "969.025031336\n",
      "967.54712157\n",
      "966.629846109\n",
      "965.165858621\n",
      "964.253015458\n",
      "963.70544211\n",
      "963.135109484\n",
      "963.064398194\n",
      "960.51610687\n",
      "961.705893367\n",
      "959.529139934\n",
      "958.594600683\n",
      "957.667351622\n",
      "957.187096409\n",
      "956.36208504\n",
      "956.718281067\n",
      "953.765425082\n",
      "954.399366099\n",
      "953.150390736\n",
      "951.822124676\n",
      "951.601841156\n",
      "949.571901512\n",
      "949.193921209\n",
      "947.743554895\n",
      "947.016518011\n",
      "946.985632564\n",
      "946.015960492\n",
      "944.87228888\n",
      "942.478406344\n",
      "942.298718699\n"
     ]
    }
   ],
   "source": [
    "maxiter = 300\n",
    "elbo_vals = []\n",
    "for i in range(maxiter):\n",
    "    _, elbo = sess.run([train_op, elbo_op])\n",
    "    print(elbo)\n",
    "    elbo_vals.append(elbo)"
   ]
  },
  {
   "cell_type": "code",
   "execution_count": 31,
   "metadata": {
    "collapsed": false,
    "scrolled": true
   },
   "outputs": [
    {
     "data": {
      "text/plain": [
       "[<matplotlib.lines.Line2D at 0x1437d0ba8>]"
      ]
     },
     "execution_count": 31,
     "metadata": {},
     "output_type": "execute_result"
    },
    {
     "data": {
      "image/png": "[encoded data removed]",
      "text/plain": [
       "<matplotlib.figure.Figure at 0x140fa5b38>"
      ]
     },
     "metadata": {},
     "output_type": "display_data"
    }
   ],
   "source": [
    "plt.plot(elbo_vals)"
   ]
  },
  {
   "cell_type": "code",
   "execution_count": 32,
   "metadata": {
    "collapsed": false
   },
   "outputs": [],
   "source": [
    "bin_mu = sess.run(gp.bin_mu)"
   ]
  },
  {
   "cell_type": "code",
   "execution_count": 33,
   "metadata": {
    "collapsed": false
   },
   "outputs": [
    {
     "name": "stdout",
     "output_type": "stream",
     "text": [
      "0 0 0.553963349399\n",
      "0 1 0.39480641395\n",
      "0 2 -0.597278915372\n",
      "0 3 -0.601571429237\n",
      "1 0 -0.597469475901\n",
      "1 1 0.55977920358\n",
      "1 2 0.553882967739\n",
      "1 3 -0.539256871739\n",
      "2 0 -0.596028123687\n",
      "2 1 -0.619830593967\n",
      "2 2 0.187698606715\n",
      "2 3 0.463974380524\n",
      "3 0 0.518718271468\n",
      "3 1 -0.639396412764\n",
      "3 2 -0.654174412635\n",
      "3 3 0.435911978393\n"
     ]
    }
   ],
   "source": [
    "for i in range(4):\n",
    "    for j in range(4):\n",
    "        print(i, j, bin_mu[i * 4 + j])"
   ]
  },
  {
   "cell_type": "markdown",
   "metadata": {},
   "source": [
    "## Prediction"
   ]
  },
  {
   "cell_type": "code",
   "execution_count": 34,
   "metadata": {
    "collapsed": true
   },
   "outputs": [],
   "source": [
    "seq_lens_te = tf.constant(np.ones([x_te.shape[0]]) * max_len)"
   ]
  },
  {
   "cell_type": "code",
   "execution_count": 35,
   "metadata": {
    "collapsed": false
   },
   "outputs": [
    {
     "name": "stdout",
     "output_type": "stream",
     "text": [
      "_latent_vars_distribution/x_flat (?, 2) = sum_len x 2\n",
      "_latent_vars_distribution/m_un_flat <unknown> = sum_len x 4\n",
      "cov_for_squared_dists/cov (4, 50, 3, 3) = [4, 50, 3, 3]\n",
      "_Knns/K_nn (4, 50, 3, 3) = 4 x 50 x 3 x 3\n"
     ]
    }
   ],
   "source": [
    "preds = gp.predict(x_te, seq_lens_te, sess)"
   ]
  },
  {
   "cell_type": "code",
   "execution_count": 38,
   "metadata": {
    "collapsed": true
   },
   "outputs": [],
   "source": [
    "sess.close()"
   ]
  },
  {
   "cell_type": "code",
   "execution_count": null,
   "metadata": {
    "collapsed": true
   },
   "outputs": [],
   "source": []
  }
 ],
 "metadata": {
  "kernelspec": {
   "display_name": "Python 3",
   "language": "python",
   "name": "python3"
  },
  "language_info": {
   "codemirror_mode": {
    "name": "ipython",
    "version": 3
   },
   "file_extension": ".py",
   "mimetype": "text/x-python",
   "name": "python",
   "nbconvert_exporter": "python",
   "pygments_lexer": "ipython3",
   "version": "3.4.3"
  }
 },
 "nbformat": 4,
 "nbformat_minor": 0
}
