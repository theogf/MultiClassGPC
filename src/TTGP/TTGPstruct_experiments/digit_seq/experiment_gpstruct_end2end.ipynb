{
 "cells": [
  {
   "cell_type": "code",
   "execution_count": 2,
   "metadata": {
    "collapsed": false
   },
   "outputs": [],
   "source": [
    "import numpy as np\n",
    "import tensorflow as tf\n",
    "import t3f\n",
    "from scipy.spatial.distance import cdist\n",
    "from matplotlib import pyplot as plt\n",
    "from sklearn.preprocessing import StandardScaler\n",
    "\n",
    "from TTGP.gpstruct import TTGPstruct\n",
    "from TTGP import grid\n",
    "from TTGP.covariance import SE_multidim\n",
    "from TTGP.projectors import LinearProjector\n",
    "%load_ext autoreload\n",
    "%autoreload 2\n",
    "\n",
    "%matplotlib inline"
   ]
  },
  {
   "cell_type": "markdown",
   "metadata": {},
   "source": [
    "## Data Loading"
   ]
  },
  {
   "cell_type": "code",
   "execution_count": 3,
   "metadata": {
    "collapsed": false
   },
   "outputs": [],
   "source": [
    "x_tr = np.load('data_struct_raw/x_tr.npy')\n",
    "x_te = np.load('data_struct_raw/x_te.npy')\n",
    "y_tr = np.load('data_struct_raw/y_tr.npy')\n",
    "y_te = np.load('data_struct_raw/y_te.npy')"
   ]
  },
  {
   "cell_type": "code",
   "execution_count": 3,
   "metadata": {
    "collapsed": true
   },
   "outputs": [],
   "source": [
    "D = x_tr.shape[-1]\n",
    "d = 4"
   ]
  },
  {
   "cell_type": "code",
   "execution_count": 4,
   "metadata": {
    "collapsed": false
   },
   "outputs": [],
   "source": [
    "x_tr_flat = x_tr.reshape([-1, D])\n",
    "x_te_flat = x_te.reshape([-1, D])"
   ]
  },
  {
   "cell_type": "code",
   "execution_count": 5,
   "metadata": {
    "collapsed": false
   },
   "outputs": [],
   "source": [
    "scaler = StandardScaler()\n",
    "x_tr_flat = scaler.fit_transform(x_tr_flat)/3\n",
    "x_te_flat = scaler.transform(x_te_flat)/3"
   ]
  },
  {
   "cell_type": "code",
   "execution_count": 6,
   "metadata": {
    "collapsed": false
   },
   "outputs": [],
   "source": [
    "x_tr = x_tr_flat.reshape(x_tr.shape)\n",
    "x_te = x_te_flat.reshape(x_te.shape)"
   ]
  },
  {
   "cell_type": "code",
   "execution_count": 7,
   "metadata": {
    "collapsed": true
   },
   "outputs": [],
   "source": [
    "x_tr[x_tr > 1] = 1\n",
    "x_tr[x_tr < -1] = -1\n",
    "x_te[x_te > 1] = 1\n",
    "x_te[x_te < -1] = -1"
   ]
  },
  {
   "cell_type": "code",
   "execution_count": 8,
   "metadata": {
    "collapsed": true
   },
   "outputs": [],
   "source": [
    "max_len = x_tr.shape[1]\n",
    "n_labels = 4\n",
    "n_seq = x_tr.shape[0]"
   ]
  },
  {
   "cell_type": "markdown",
   "metadata": {},
   "source": [
    "## GP"
   ]
  },
  {
   "cell_type": "code",
   "execution_count": 9,
   "metadata": {
    "collapsed": false
   },
   "outputs": [],
   "source": [
    "num = 10\n",
    "inputs = grid.InputsGrid(d, left=-1., right=1., npoints=num)\n",
    "projector = LinearProjector(d=d, D=D)\n",
    "cov = SE_multidim(n_labels, .7, .3, .1, projector)"
   ]
  },
  {
   "cell_type": "code",
   "execution_count": 10,
   "metadata": {
    "collapsed": false
   },
   "outputs": [],
   "source": [
    "mu_ranks = 5\n",
    "gp = TTGPstruct(cov, inputs, mu_ranks)"
   ]
  },
  {
   "cell_type": "markdown",
   "metadata": {},
   "source": [
    "## Graph Creation"
   ]
  },
  {
   "cell_type": "code",
   "execution_count": 11,
   "metadata": {
    "collapsed": true
   },
   "outputs": [],
   "source": [
    "seq_lens = np.ones(shape=(n_seq,)) * max_len"
   ]
  },
  {
   "cell_type": "code",
   "execution_count": 12,
   "metadata": {
    "collapsed": false
   },
   "outputs": [],
   "source": [
    "x_tr = tf.constant(x_tr)\n",
    "x_te = tf.constant(x_te)\n",
    "y_tr = tf.constant(y_tr)\n",
    "y_te = tf.constant(y_te)\n",
    "seq_lens = tf.constant(seq_lens)"
   ]
  },
  {
   "cell_type": "code",
   "execution_count": 49,
   "metadata": {
    "collapsed": true
   },
   "outputs": [],
   "source": [
    "N = n_seq\n",
    "global_step = tf.Variable(0, trainable=False)\n",
    "lr = tf.train.exponential_decay(5e-3, global_step, \n",
    "                                        100, 0.5, staircase=True)"
   ]
  },
  {
   "cell_type": "code",
   "execution_count": 50,
   "metadata": {
    "collapsed": false
   },
   "outputs": [
    {
     "name": "stdout",
     "output_type": "stream",
     "text": [
      "_latent_vars_distribution/x_flat (?, 64) = sum_len x 64\n",
      "_latent_vars_distribution/m_un_flat <unknown> = sum_len x 4\n",
      "cov_for_squared_dists/cov (4, 100, 3, 3) = [4, 100, 3, 3]\n",
      "_Knns/K_nn (4, 100, 3, 3) = 4 x 100 x 3 x 3\n",
      "_sample_f/f_un (4, 100, 3) = 4 100 3\n",
      "_sample_f/f_bin (16,) = 16\n"
     ]
    }
   ],
   "source": [
    "elbo_op, train_op = gp.fit(x_tr, y_tr, seq_lens, N, lr, global_step)"
   ]
  },
  {
   "cell_type": "markdown",
   "metadata": {},
   "source": [
    "## Learning"
   ]
  },
  {
   "cell_type": "code",
   "execution_count": 51,
   "metadata": {
    "collapsed": false
   },
   "outputs": [],
   "source": [
    "sess = tf.Session()\n",
    "gp.initialize(sess)\n",
    "sess.run(tf.global_variables_initializer())"
   ]
  },
  {
   "cell_type": "code",
   "execution_count": 52,
   "metadata": {
    "collapsed": false
   },
   "outputs": [
    {
     "name": "stdout",
     "output_type": "stream",
     "text": [
      "0 464.389605657\n",
      "1 469.325264351\n",
      "2 464.225281895\n",
      "3 464.103607365\n",
      "4 461.039106547\n",
      "5 456.642409406\n",
      "6 455.519321204\n",
      "7 453.440839583\n",
      "8 451.595236326\n",
      "9 451.419728878\n",
      "10 448.966928307\n",
      "11 447.064303824\n",
      "12 444.699205903\n",
      "13 443.31371091\n",
      "14 441.676387853\n",
      "15 442.934839816\n",
      "16 438.701531759\n",
      "17 439.817589968\n",
      "18 437.361046333\n",
      "19 436.413162768\n",
      "20 436.20681851\n",
      "21 434.219706149\n",
      "22 433.632996714\n",
      "23 433.50855751\n",
      "24 431.546484412\n",
      "25 431.297956559\n",
      "26 430.950191883\n",
      "27 430.113520326\n",
      "28 428.825282991\n",
      "29 427.268468641\n",
      "30 427.803188472\n",
      "31 424.965191694\n",
      "32 427.058262618\n",
      "33 426.41028419\n",
      "34 424.79905536\n",
      "35 425.206936188\n",
      "36 424.267460373\n",
      "37 424.273054791\n",
      "38 423.864077075\n",
      "39 423.286860921\n",
      "40 422.274543761\n",
      "41 422.503420602\n",
      "42 422.369870963\n",
      "43 421.026402419\n",
      "44 421.013148758\n",
      "45 420.597693921\n",
      "46 419.895147294\n",
      "47 420.201899347\n",
      "48 419.052959783\n",
      "49 419.375425634\n",
      "50 418.85950859\n",
      "51 419.481557508\n",
      "52 417.948322671\n",
      "53 418.730780714\n",
      "54 418.090120079\n",
      "55 418.043683223\n",
      "56 417.053667557\n",
      "57 417.001479898\n",
      "58 418.514400529\n",
      "59 417.463010201\n",
      "60 417.110282743\n",
      "61 417.285160596\n",
      "62 418.202443463\n",
      "63 415.519367184\n",
      "64 417.202309482\n",
      "65 417.992265949\n",
      "66 418.015274746\n",
      "67 416.327061535\n",
      "68 417.196604262\n",
      "69 416.928937364\n",
      "70 416.269260607\n",
      "71 417.019040158\n",
      "72 415.696537255\n",
      "73 416.747919651\n",
      "74 416.458474994\n",
      "75 417.165970028\n",
      "76 417.204019477\n",
      "77 416.008154157\n",
      "78 417.633891134\n",
      "79 416.621228701\n",
      "80 415.574589783\n",
      "81 415.790042171\n",
      "82 415.552851342\n",
      "83 417.272353112\n",
      "84 416.655258472\n",
      "85 416.270633037\n",
      "86 415.272449559\n",
      "87 415.543868909\n",
      "88 417.335211808\n",
      "89 415.189140229\n",
      "90 416.130896736\n",
      "91 416.015598186\n",
      "92 416.523674992\n",
      "93 417.142116143\n",
      "94 417.806894364\n",
      "95 415.274773386\n",
      "96 413.944882299\n",
      "97 415.908437986\n",
      "98 415.885629191\n",
      "99 415.775836439\n",
      "100 416.505646042\n",
      "101 415.088323948\n",
      "102 415.887122932\n",
      "103 416.715933033\n",
      "104 414.9854254\n",
      "105 415.662207151\n",
      "106 416.232147384\n",
      "107 416.144842134\n",
      "108 416.303745876\n",
      "109 415.894122543\n",
      "110 414.695158726\n",
      "111 414.78490528\n",
      "112 416.245332351\n",
      "113 415.883529584\n",
      "114 416.104697376\n",
      "115 415.185707802\n",
      "116 414.350066402\n",
      "117 416.159025902\n",
      "118 416.448488184\n",
      "119 416.896417518\n",
      "120 416.033494894\n",
      "121 414.42960583\n",
      "122 416.076907119\n",
      "123 416.037786279\n",
      "124 415.013823069\n",
      "125 414.921249382\n",
      "126 416.438600617\n",
      "127 417.267010531\n",
      "128 415.447823097\n",
      "129 416.704724136\n",
      "130 415.517669418\n",
      "131 416.841094934\n",
      "132 415.909475082\n",
      "133 417.181584077\n",
      "134 416.671473913\n",
      "135 415.509730473\n",
      "136 416.203975581\n",
      "137 415.338010562\n",
      "138 415.32798208\n",
      "139 416.369144235\n",
      "140 416.393768005\n",
      "141 415.901327716\n",
      "142 414.850685675\n",
      "143 416.708769793\n",
      "144 415.846115868\n",
      "145 416.827751075\n",
      "146 415.641503822\n",
      "147 415.478062423\n",
      "148 416.173652231\n",
      "149 416.362186434\n",
      "150 415.785637039\n",
      "151 415.421553234\n",
      "152 415.148467602\n",
      "153 415.234969444\n",
      "154 415.053191057\n",
      "155 418.066768906\n",
      "156 415.705003758\n",
      "157 417.185135965\n",
      "158 416.212381572\n",
      "159 415.965076582\n",
      "160 415.81910654\n",
      "161 416.892613391\n",
      "162 416.102541627\n",
      "163 415.486346726\n",
      "164 415.374406161\n",
      "165 415.740414255\n",
      "166 415.866161288\n",
      "167 415.904939147\n",
      "168 415.469513206\n",
      "169 416.31250005\n",
      "170 416.871806783\n",
      "171 415.639386\n",
      "172 415.404306912\n",
      "173 416.20858211\n",
      "174 414.995633254\n",
      "175 415.421117062\n",
      "176 415.638506974\n",
      "177 416.836712647\n",
      "178 414.982146601\n",
      "179 415.107271369\n",
      "180 415.513774519\n",
      "181 416.068796135\n",
      "182 415.958461327\n",
      "183 416.853040368\n",
      "184 416.701775968\n",
      "185 415.676896421\n",
      "186 415.789258646\n",
      "187 416.538715687\n",
      "188 416.084199523\n",
      "189 416.736976572\n",
      "190 417.254525484\n",
      "191 416.555784959\n",
      "192 414.652546607\n",
      "193 416.232782964\n",
      "194 415.482304948\n",
      "195 416.080558266\n",
      "196 415.189823942\n",
      "197 416.285098494\n",
      "198 416.387484884\n",
      "199 415.530883331\n",
      "200 414.945464108\n",
      "201 416.013208423\n",
      "202 415.900762565\n",
      "203 416.62368819\n",
      "204 415.758844874\n",
      "205 417.223309857\n",
      "206 415.572831825\n",
      "207 414.935472126\n",
      "208 415.932887247\n",
      "209 415.135062647\n",
      "210 415.763974878\n",
      "211 415.569638593\n",
      "212 415.240813863\n",
      "213 415.054244021\n",
      "214 417.950024078\n",
      "215 415.85708877\n",
      "216 415.021126116\n",
      "217 415.30571314\n",
      "218 415.967494101\n",
      "219 416.003905283\n",
      "220 416.241872666\n",
      "221 415.05914129\n",
      "222 415.470148321\n",
      "223 415.590573136\n",
      "224 415.076230696\n",
      "225 415.794316686\n",
      "226 415.649898533\n",
      "227 415.149232924\n",
      "228 416.541603509\n",
      "229 414.965368945\n",
      "230 416.525152411\n",
      "231 415.255920123\n",
      "232 414.960670223\n",
      "233 414.906851627\n",
      "234 416.830490426\n",
      "235 415.124265238\n",
      "236 415.099298981\n",
      "237 415.961076082\n",
      "238 416.037322266\n",
      "239 416.134909274\n",
      "240 415.377573364\n",
      "241 415.705979562\n",
      "242 416.163368388\n",
      "243 415.4545675\n",
      "244 415.968647471\n",
      "245 415.658955829\n",
      "246 414.996840829\n",
      "247 416.17594166\n",
      "248 416.260554915\n",
      "249 415.396284124\n",
      "250 415.43530484\n",
      "251 414.524682002\n",
      "252 414.595414408\n",
      "253 416.124196851\n",
      "254 415.547778438\n",
      "255 415.863573353\n",
      "256 415.702649286\n",
      "257 415.883785589\n",
      "258 416.122764292\n",
      "259 415.884460925\n",
      "260 415.476383869\n",
      "261 414.344109885\n",
      "262 415.258877442\n",
      "263 415.049467082\n",
      "264 414.173852828\n",
      "265 415.332887589\n",
      "266 416.013547277\n",
      "267 415.972858967\n",
      "268 414.383779141\n",
      "269 417.192235602\n",
      "270 415.316274487\n",
      "271 414.990825141\n",
      "272 416.29973152\n",
      "273 415.454863859\n",
      "274 415.331693052\n",
      "275 414.131844367\n",
      "276 415.238162019\n",
      "277 415.635996341\n",
      "278 415.612540865\n",
      "279 415.301880707\n",
      "280 415.764038606\n",
      "281 415.532946906\n",
      "282 416.165510954\n",
      "283 416.035352486\n",
      "284 414.7887955\n",
      "285 415.699271925\n",
      "286 416.221926873\n",
      "287 416.063781009\n",
      "288 416.445305566\n",
      "289 414.570221106\n",
      "290 415.531847853\n",
      "291 416.14062647\n",
      "292 415.063870418\n",
      "293 415.194318536\n",
      "294 416.12627503\n",
      "295 415.564887201\n",
      "296 416.910562881\n",
      "297 415.407461591\n",
      "298 415.39854139\n",
      "299 415.960361225\n"
     ]
    }
   ],
   "source": [
    "maxiter = 300\n",
    "elbo_vals = []\n",
    "for i in range(maxiter):\n",
    "    _, elbo = sess.run([train_op, elbo_op])\n",
    "    print(i, elbo)\n",
    "    elbo_vals.append(elbo)"
   ]
  },
  {
   "cell_type": "code",
   "execution_count": 53,
   "metadata": {
    "collapsed": false
   },
   "outputs": [
    {
     "data": {
      "text/plain": [
       "[<matplotlib.lines.Line2D at 0x1521d8f60>]"
      ]
     },
     "execution_count": 53,
     "metadata": {},
     "output_type": "execute_result"
    },
    {
     "data": {
      "image/png": "[encoded data removed]",
      "text/plain": [
       "<matplotlib.figure.Figure at 0x15f091a20>"
      ]
     },
     "metadata": {},
     "output_type": "display_data"
    }
   ],
   "source": [
    "plt.plot(elbo_vals)"
   ]
  },
  {
   "cell_type": "code",
   "execution_count": 54,
   "metadata": {
    "collapsed": false
   },
   "outputs": [],
   "source": [
    "bin_mu = sess.run(gp.bin_mu)"
   ]
  },
  {
   "cell_type": "code",
   "execution_count": 55,
   "metadata": {
    "collapsed": false
   },
   "outputs": [
    {
     "name": "stdout",
     "output_type": "stream",
     "text": [
      "0 0 0.294764100966\n",
      "0 1 0.16827198737\n",
      "0 2 -0.384310202282\n",
      "0 3 -0.448631808088\n",
      "1 0 -0.34329691737\n",
      "1 1 0.219485846511\n",
      "1 2 0.43132449147\n",
      "1 3 -0.427622453957\n",
      "2 0 -0.45624399444\n",
      "2 1 -0.419226727986\n",
      "2 2 0.38190934795\n",
      "2 3 0.408819439629\n",
      "3 0 0.367519930072\n",
      "3 1 -0.404162037658\n",
      "3 2 -0.407287436863\n",
      "3 3 0.468818320945\n"
     ]
    }
   ],
   "source": [
    "for i in range(4):\n",
    "    for j in range(4):\n",
    "        print(i, j, bin_mu[i * 4 + j])"
   ]
  },
  {
   "cell_type": "markdown",
   "metadata": {},
   "source": [
    "## Prediction"
   ]
  },
  {
   "cell_type": "code",
   "execution_count": 56,
   "metadata": {
    "collapsed": true
   },
   "outputs": [],
   "source": [
    "seq_lens_te = tf.constant(np.ones([x_te.shape[0]]) * max_len)"
   ]
  },
  {
   "cell_type": "code",
   "execution_count": 57,
   "metadata": {
    "collapsed": false
   },
   "outputs": [
    {
     "name": "stdout",
     "output_type": "stream",
     "text": [
      "_latent_vars_distribution/x_flat (?, 64) = sum_len x 64\n",
      "_latent_vars_distribution/m_un_flat <unknown> = sum_len x 4\n",
      "cov_for_squared_dists/cov (4, 50, 3, 3) = [4, 50, 3, 3]\n",
      "_Knns/K_nn (4, 50, 3, 3) = 4 x 50 x 3 x 3\n"
     ]
    }
   ],
   "source": [
    "preds = gp.predict(x_te, seq_lens_te, sess)"
   ]
  },
  {
   "cell_type": "code",
   "execution_count": 58,
   "metadata": {
    "collapsed": false
   },
   "outputs": [
    {
     "data": {
      "text/plain": [
       "0.98666666666666669"
      ]
     },
     "execution_count": 58,
     "metadata": {},
     "output_type": "execute_result"
    }
   ],
   "source": [
    "np.sum(sess.run(y_te) == preds) / preds.size"
   ]
  },
  {
   "cell_type": "code",
   "execution_count": 48,
   "metadata": {
    "collapsed": true
   },
   "outputs": [],
   "source": [
    "sess.close()"
   ]
  },
  {
   "cell_type": "code",
   "execution_count": null,
   "metadata": {
    "collapsed": true
   },
   "outputs": [],
   "source": []
  }
 ],
 "metadata": {
  "kernelspec": {
   "display_name": "Python 3",
   "language": "python",
   "name": "python3"
  },
  "language_info": {
   "codemirror_mode": {
    "name": "ipython",
    "version": 3
   },
   "file_extension": ".py",
   "mimetype": "text/x-python",
   "name": "python",
   "nbconvert_exporter": "python",
   "pygments_lexer": "ipython3",
   "version": "3.4.3"
  }
 },
 "nbformat": 4,
 "nbformat_minor": 0
}
