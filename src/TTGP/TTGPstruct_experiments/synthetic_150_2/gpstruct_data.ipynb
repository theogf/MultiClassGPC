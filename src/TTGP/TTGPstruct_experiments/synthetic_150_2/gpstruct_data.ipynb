{
 "cells": [
  {
   "cell_type": "markdown",
   "metadata": {},
   "source": [
    "# Generating Data"
   ]
  },
  {
   "cell_type": "code",
   "execution_count": 1,
   "metadata": {
    "collapsed": false
   },
   "outputs": [],
   "source": [
    "import numpy as np\n",
    "import tensorflow as tf\n",
    "import pgmpy\n",
    "from GPflow.gpr import GPR\n",
    "from GPflow.kernels import RBF\n",
    "from tensorflow.contrib.crf import viterbi_decode\n",
    "\n",
    "from matplotlib import pyplot as plt\n",
    "\n",
    "%matplotlib inline"
   ]
  },
  {
   "cell_type": "markdown",
   "metadata": {},
   "source": [
    "## Sampling potentials"
   ]
  },
  {
   "cell_type": "code",
   "execution_count": 2,
   "metadata": {
    "collapsed": false
   },
   "outputs": [],
   "source": [
    "n_seq = 150\n",
    "D = 2\n",
    "n_labels = 2\n",
    "max_len = 5\n",
    "\n",
    "x = np.random.normal(size=(n_seq, max_len, D)) / 3"
   ]
  },
  {
   "cell_type": "code",
   "execution_count": 3,
   "metadata": {
    "collapsed": false
   },
   "outputs": [],
   "source": [
    "f_bin = np.random.multivariate_normal(mean=np.array([1, 0., 0., 1]), cov=np.eye(4) * 0.1, size=n_seq)"
   ]
  },
  {
   "cell_type": "code",
   "execution_count": 4,
   "metadata": {
    "collapsed": false
   },
   "outputs": [],
   "source": [
    "x_flat = x.reshape([-1, D])\n",
    "x_init = np.zeros([1, D])\n",
    "f_init = np.zeros([1, 1])"
   ]
  },
  {
   "cell_type": "code",
   "execution_count": 5,
   "metadata": {
    "collapsed": true
   },
   "outputs": [],
   "source": [
    "gp_0 = GPR(x_init, f_init, kern=RBF(input_dim=D, lengthscales=[0.3]))\n",
    "gp_1 = GPR(x_init, f_init, kern=RBF(input_dim=D, lengthscales=[0.2]))"
   ]
  },
  {
   "cell_type": "code",
   "execution_count": 6,
   "metadata": {
    "collapsed": false
   },
   "outputs": [],
   "source": [
    "mean_0, var_0 = gp_0.predict_f_full_cov(x_flat)\n",
    "var_0 += np.eye(mean_0.size)[:, :, None] * 0.05**2\n",
    "\n",
    "mean_1, var_1 = gp_1.predict_f_full_cov(x_flat)\n",
    "var_1 += np.eye(mean_1.size)[:, :, None] * 0.05**2\n",
    "\n",
    "f_un_flat_0 = np.random.multivariate_normal(mean_0[:, 0], var_0[:, :, 0])\n",
    "f_un_flat_1 = np.random.multivariate_normal(mean_1[:, 0], var_1[:, :, 0])"
   ]
  },
  {
   "cell_type": "code",
   "execution_count": 7,
   "metadata": {
    "collapsed": false
   },
   "outputs": [],
   "source": [
    "# plt.plot(x_flat[:, 0], f_un_flat_0, 'bo')\n",
    "# plt.plot(x_flat[:, 0], f_un_flat_1, 'ro')"
   ]
  },
  {
   "cell_type": "code",
   "execution_count": 8,
   "metadata": {
    "collapsed": false
   },
   "outputs": [],
   "source": [
    "f_un_0 = f_un_flat_0.reshape(x.shape[:-1])\n",
    "f_un_1 = f_un_flat_1.reshape(x.shape[:-1])\n",
    "\n",
    "f_un = np.dstack([f_un_0[:, :, None], f_un_1[:, :, None]])"
   ]
  },
  {
   "cell_type": "markdown",
   "metadata": {},
   "source": [
    "## Sampling labels"
   ]
  },
  {
   "cell_type": "code",
   "execution_count": 9,
   "metadata": {
    "collapsed": false
   },
   "outputs": [],
   "source": [
    "f_bin = f_bin.reshape([n_seq, 2, 2])"
   ]
  },
  {
   "cell_type": "code",
   "execution_count": 19,
   "metadata": {
    "collapsed": false
   },
   "outputs": [],
   "source": [
    "y = []\n",
    "for seq in range(n_seq):\n",
    "    y_ = viterbi_decode(f_un[seq], f_bin[seq])[0]\n",
    "    y.append(y_)\n",
    "y = np.array(y)"
   ]
  },
  {
   "cell_type": "code",
   "execution_count": 21,
   "metadata": {
    "collapsed": false
   },
   "outputs": [
    {
     "data": {
      "text/plain": [
       "(5, 2)"
      ]
     },
     "execution_count": 21,
     "metadata": {},
     "output_type": "execute_result"
    }
   ],
   "source": [
    "f_un[seq].shape"
   ]
  },
  {
   "cell_type": "code",
   "execution_count": 13,
   "metadata": {
    "collapsed": true
   },
   "outputs": [],
   "source": [
    "x_tr, y_tr = x[:100], y[:100]\n",
    "x_te, y_te = x[100:], y[100:]"
   ]
  },
  {
   "cell_type": "code",
   "execution_count": 18,
   "metadata": {
    "collapsed": false
   },
   "outputs": [],
   "source": [
    "# np.save('data/x_tr', x_tr)\n",
    "# np.save('data/y_tr', y_tr)\n",
    "# np.save('data/x_te', x_te)\n",
    "# np.save('data/y_te', y_te)"
   ]
  }
 ],
 "metadata": {
  "kernelspec": {
   "display_name": "Python 3",
   "language": "python",
   "name": "python3"
  },
  "language_info": {
   "codemirror_mode": {
    "name": "ipython",
    "version": 3
   },
   "file_extension": ".py",
   "mimetype": "text/x-python",
   "name": "python",
   "nbconvert_exporter": "python",
   "pygments_lexer": "ipython3",
   "version": "3.4.3"
  }
 },
 "nbformat": 4,
 "nbformat_minor": 0
}
