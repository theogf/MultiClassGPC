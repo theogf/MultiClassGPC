{
 "cells": [
  {
   "cell_type": "code",
   "execution_count": 2,
   "metadata": {
    "collapsed": false
   },
   "outputs": [],
   "source": [
    "import numpy as np\n",
    "import tensorflow as tf\n",
    "import t3f\n",
    "from scipy.spatial.distance import cdist\n",
    "from matplotlib import pyplot as plt\n",
    "\n",
    "from gptt_embed.gpstruct import TTGPstruct\n",
    "from gptt_embed import grid\n",
    "from gptt_embed.covariance import SE_multidim\n",
    "from gptt_embed.projectors import Identity\n",
    "%load_ext autoreload\n",
    "%autoreload 2\n",
    "\n",
    "%matplotlib inline"
   ]
  },
  {
   "cell_type": "markdown",
   "metadata": {},
   "source": [
    "## Data"
   ]
  },
  {
   "cell_type": "code",
   "execution_count": 3,
   "metadata": {
    "collapsed": false
   },
   "outputs": [],
   "source": [
    "x_tr = np.load('data/x_tr.npy')\n",
    "x_te = np.load('data/x_te.npy')\n",
    "y_tr = np.load('data/y_tr.npy')\n",
    "y_te = np.load('data/y_te.npy')"
   ]
  },
  {
   "cell_type": "code",
   "execution_count": 4,
   "metadata": {
    "collapsed": true
   },
   "outputs": [],
   "source": [
    "x_tr[x_tr > 1] = 1\n",
    "x_tr[x_tr < -1] = -1\n",
    "x_te[x_te > 1] = 1\n",
    "x_te[x_te < -1] = -1"
   ]
  },
  {
   "cell_type": "code",
   "execution_count": 5,
   "metadata": {
    "collapsed": true
   },
   "outputs": [],
   "source": [
    "D = x_tr.shape[-1]\n",
    "max_len = x_tr.shape[1]\n",
    "n_labels = 2\n",
    "n_seq = x_tr.shape[0]"
   ]
  },
  {
   "cell_type": "markdown",
   "metadata": {},
   "source": [
    "## GP"
   ]
  },
  {
   "cell_type": "markdown",
   "metadata": {},
   "source": [
    "### Inducing Inputs"
   ]
  },
  {
   "cell_type": "code",
   "execution_count": 6,
   "metadata": {
    "collapsed": false
   },
   "outputs": [],
   "source": [
    "num = 10\n",
    "inputs = grid.InputsGrid(D, left=-1., right=1., npoints=num)"
   ]
  },
  {
   "cell_type": "markdown",
   "metadata": {},
   "source": [
    "### Kernel"
   ]
  },
  {
   "cell_type": "code",
   "execution_count": 7,
   "metadata": {
    "collapsed": true
   },
   "outputs": [],
   "source": [
    "projector = Identity(D)\n",
    "cov = SE_multidim(n_labels, .7, .3, .1, projector)"
   ]
  },
  {
   "cell_type": "markdown",
   "metadata": {},
   "source": [
    "### GP"
   ]
  },
  {
   "cell_type": "code",
   "execution_count": 8,
   "metadata": {
    "collapsed": true
   },
   "outputs": [],
   "source": [
    "mu_ranks = 5\n",
    "gp = TTGPstruct(cov, inputs, mu_ranks)"
   ]
  },
  {
   "cell_type": "markdown",
   "metadata": {},
   "source": [
    "## Graph creation"
   ]
  },
  {
   "cell_type": "code",
   "execution_count": 9,
   "metadata": {
    "collapsed": true
   },
   "outputs": [],
   "source": [
    "seq_lens = np.ones(shape=(n_seq,)) * max_len"
   ]
  },
  {
   "cell_type": "code",
   "execution_count": 10,
   "metadata": {
    "collapsed": false
   },
   "outputs": [],
   "source": [
    "x_tr = tf.constant(x_tr)\n",
    "x_te = tf.constant(x_te)\n",
    "y_tr = tf.constant(y_tr)\n",
    "y_te = tf.constant(y_te)\n",
    "seq_lens = tf.constant(seq_lens)"
   ]
  },
  {
   "cell_type": "code",
   "execution_count": 58,
   "metadata": {
    "collapsed": true
   },
   "outputs": [],
   "source": [
    "N = n_seq\n",
    "global_step = tf.Variable(0, trainable=False)\n",
    "lr = tf.train.exponential_decay(1e-2, global_step, \n",
    "                                        50, 0.5, staircase=True)"
   ]
  },
  {
   "cell_type": "code",
   "execution_count": 59,
   "metadata": {
    "collapsed": false
   },
   "outputs": [
    {
     "name": "stdout",
     "output_type": "stream",
     "text": [
      "_latent_vars_distribution/x_flat (?, 2) = sum_len x 2\n",
      "_latent_vars_distribution/m_un_flat <unknown> = sum_len x 2\n",
      "cov_for_squared_dists/cov (2, 100, 5, 5) = [2, 100, 5, 5]\n",
      "_Knns/K_nn (2, 100, 5, 5) = 2 x 100 x 5 x 5\n",
      "_sample_f/f_un (2, 100, 5) = 2 100 5\n",
      "_sample_f/f_bin (4,) = 4\n"
     ]
    }
   ],
   "source": [
    "elbo_op, train_op = gp.fit(x_tr, y_tr, seq_lens, N, lr, global_step)"
   ]
  },
  {
   "cell_type": "markdown",
   "metadata": {},
   "source": [
    "## Learning"
   ]
  },
  {
   "cell_type": "code",
   "execution_count": 61,
   "metadata": {
    "collapsed": true
   },
   "outputs": [],
   "source": [
    "sess = tf.Session()"
   ]
  },
  {
   "cell_type": "code",
   "execution_count": 62,
   "metadata": {
    "collapsed": true
   },
   "outputs": [],
   "source": [
    "gp.initialize(sess)\n",
    "sess.run(tf.global_variables_initializer())"
   ]
  },
  {
   "cell_type": "code",
   "execution_count": 63,
   "metadata": {
    "collapsed": false
   },
   "outputs": [
    {
     "name": "stdout",
     "output_type": "stream",
     "text": [
      "3.43785563781\n",
      "5.22183985044\n",
      "6.57620110956\n",
      "7.00002152034\n",
      "8.87055593564\n",
      "6.022537815\n",
      "4.21679567487\n",
      "5.59879944707\n",
      "6.59857220577\n",
      "1.90777900966\n",
      "5.06859172209\n",
      "5.84884590165\n",
      "5.25289542756\n",
      "8.79938420688\n",
      "4.5579678399\n",
      "3.31536177043\n",
      "10.1904985189\n",
      "5.56651713838\n",
      "6.32094260114\n",
      "3.31993632953\n",
      "7.30681972847\n",
      "7.31364487873\n",
      "1.10620210465\n",
      "5.41411147852\n",
      "7.47691627697\n",
      "3.73608426601\n",
      "5.12228901711\n",
      "7.56447456016\n",
      "4.22421389472\n",
      "7.4777267978\n",
      "6.78962119423\n",
      "2.3854646302\n",
      "2.81172908312\n",
      "9.63565520139\n",
      "6.01062756946\n",
      "5.11152266748\n",
      "2.32847492146\n",
      "3.07513942312\n",
      "4.94554016033\n",
      "5.24034975997\n",
      "3.94638897708\n",
      "9.06282022401\n",
      "5.01968055153\n",
      "4.41646778023\n",
      "3.8025117207\n",
      "5.74270197977\n",
      "3.22294017406\n",
      "8.0643580836\n",
      "8.11752202674\n",
      "2.94552286397\n",
      "4.77056564718\n",
      "-0.539509516354\n",
      "-0.431119076915\n",
      "4.97467353578\n",
      "-2.07999651676\n",
      "5.00189193827\n",
      "7.2925841265\n",
      "5.18394305008\n",
      "4.40512529412\n",
      "-1.78776593312\n",
      "6.04853987\n",
      "0.511541135864\n",
      "5.71928393276\n",
      "6.01754050493\n",
      "5.2032573816\n",
      "6.52333747036\n",
      "4.45402507095\n",
      "7.46620628704\n",
      "5.58786035876\n",
      "2.98949225086\n",
      "7.22459541394\n",
      "4.72095027064\n",
      "5.15987149356\n",
      "3.35038768711\n",
      "4.45049546126\n",
      "0.893859118247\n",
      "3.60802369881\n",
      "1.52324757251\n",
      "2.75799111457\n",
      "2.90661477578\n",
      "4.84776276395\n",
      "4.48070420429\n",
      "2.93120232686\n",
      "5.58362009782\n",
      "-0.680666585364\n",
      "3.69316365604\n",
      "6.7951459829\n",
      "3.53256741908\n",
      "5.00772633134\n",
      "3.44485532519\n",
      "1.7258238468\n",
      "4.99723623093\n",
      "3.74484055035\n",
      "5.269931627\n",
      "5.59292384931\n",
      "4.49266705063\n",
      "3.79640672569\n",
      "2.86066098099\n",
      "5.49699093336\n",
      "1.60057649597\n",
      "-0.10913458699\n",
      "3.53805329683\n",
      "4.03850916772\n",
      "-0.52817991384\n",
      "-1.63480141582\n",
      "2.64556185881\n",
      "4.49222250719\n",
      "2.54428208961\n",
      "2.13743063562\n",
      "8.55088607502\n",
      "4.24842774015\n",
      "7.57645346272\n",
      "1.91480898063\n",
      "3.94555249888\n",
      "8.51912129775\n",
      "2.2973739598\n",
      "3.23517506798\n",
      "3.17471580215\n",
      "3.79613287019\n",
      "3.58239664878\n",
      "6.26485960224\n",
      "0.830246266963\n",
      "1.77554677058\n",
      "5.02013374149\n",
      "4.92282326655\n",
      "1.88097623148\n",
      "0.984410095841\n",
      "0.906481340191\n",
      "3.88135057705\n",
      "6.04044669774\n",
      "6.10458044336\n",
      "0.625137403803\n",
      "3.76942599672\n",
      "1.69151717813\n",
      "4.39432430748\n",
      "-0.54493078898\n",
      "0.265593850363\n",
      "3.44640552846\n",
      "3.98356653074\n",
      "3.11151884523\n",
      "1.06756548162\n",
      "6.50891919746\n",
      "2.50470962483\n",
      "4.83618803826\n",
      "-0.499281004176\n",
      "3.50415165266\n",
      "6.00839696867\n",
      "1.4874794926\n",
      "5.92935937819\n",
      "-1.64629349705\n",
      "5.85846594757\n",
      "2.31904117219\n",
      "4.30998831041\n",
      "5.66356163595\n",
      "3.58600370078\n",
      "0.890899496218\n",
      "2.62975145855\n",
      "8.36990385422\n",
      "2.27506705671\n",
      "4.24511252543\n",
      "5.43427467441\n",
      "2.73552631667\n",
      "5.09973556393\n",
      "3.03410578357\n",
      "1.50031912223\n",
      "6.21482281414\n",
      "9.63959521896\n",
      "7.51265711885\n",
      "2.17250183614\n",
      "3.81000539824\n",
      "1.63549263494\n",
      "4.73660316592\n",
      "6.46022536927\n",
      "5.2608580816\n",
      "2.84559996869\n",
      "3.29401384457\n",
      "4.15010899373\n",
      "3.96744301392\n",
      "6.04511280007\n",
      "2.64836195434\n",
      "5.86038750884\n",
      "6.92388795539\n",
      "2.89537053728\n",
      "6.67356697873\n",
      "7.06950425202\n",
      "8.33559400392\n",
      "-0.563055184449\n",
      "3.3806723105\n",
      "-1.00312491076\n",
      "4.57638686861\n",
      "1.99935966976\n",
      "7.58771303715\n",
      "3.84560905744\n",
      "10.7316668859\n",
      "0.713862085202\n",
      "2.26762860239\n",
      "1.57127666341\n",
      "1.76728739031\n",
      "3.68099937429\n",
      "2.59226710636\n",
      "4.42665513398\n",
      "2.18950940746\n",
      "6.32531068476\n",
      "7.48589557154\n",
      "-0.82026187904\n",
      "9.1450045133\n",
      "5.05871108245\n",
      "5.75939701865\n",
      "3.26024305631\n",
      "4.54654541239\n",
      "8.71554633369\n",
      "0.630019389306\n",
      "7.05301971705\n",
      "1.91384664525\n",
      "6.28180237236\n",
      "2.95839813315\n",
      "5.37760977714\n",
      "7.36924622071\n",
      "1.92335211514\n",
      "5.9115554414\n",
      "6.25170686285\n",
      "8.88770288464\n",
      "8.09216610664\n",
      "0.978356548603\n",
      "3.89294692227\n",
      "11.8640518847\n",
      "2.73020828053\n",
      "-1.70249671416\n",
      "4.43674275221\n",
      "5.48757628925\n",
      "6.9118609693\n",
      "6.49032731853\n",
      "3.60493808474\n",
      "2.81308359311\n",
      "2.07689467202\n",
      "8.63376250728\n",
      "4.08297500051\n",
      "0.927518066445\n",
      "0.165219916732\n",
      "3.62700490095\n",
      "7.79612005814\n",
      "6.00405938149\n",
      "2.35839259008\n",
      "3.99264404161\n",
      "5.18463443048\n",
      "7.28430577582\n",
      "7.27632635225\n",
      "6.74708488131\n",
      "-0.885951623008\n",
      "7.76691473895\n",
      "7.50221866956\n",
      "3.42793944268\n",
      "5.32379920089\n",
      "2.96121557676\n",
      "1.34271966707\n",
      "2.82968573053\n",
      "8.8511348622\n",
      "7.90449989772\n",
      "8.40643537389\n",
      "4.71840367112\n",
      "0.248047034276\n",
      "3.02071683139\n",
      "9.84738222391\n",
      "5.35403914126\n",
      "5.36149255624\n",
      "3.15164783816\n",
      "3.19909687929\n",
      "1.52395937509\n",
      "3.59744135805\n",
      "4.3495746881\n",
      "4.25760639025\n",
      "1.66453782768\n",
      "1.76234413259\n",
      "4.53025214715\n",
      "6.56585667942\n",
      "0.895283283507\n",
      "4.85740179614\n",
      "2.01103091622\n",
      "0.379677268871\n",
      "6.53267149753\n",
      "1.30102506622\n",
      "7.54654751738\n",
      "-0.127336200321\n",
      "0.390946661535\n",
      "6.45541429277\n",
      "2.27986167615\n",
      "1.29365438702\n",
      "5.16956200001\n",
      "3.68880328708\n",
      "3.72429002508\n",
      "2.08241185289\n",
      "1.78672024077\n",
      "5.44394455499\n",
      "6.59155748117\n",
      "5.92011234818\n",
      "4.83763052427\n",
      "2.12590603076\n",
      "5.03437158359\n",
      "4.41969140366\n",
      "5.12183077272\n"
     ]
    }
   ],
   "source": [
    "maxiter = 300\n",
    "elbo_vals = []\n",
    "for i in range(maxiter):\n",
    "    _, elbo = sess.run([train_op, elbo_op])\n",
    "    print(elbo)\n",
    "    elbo_vals.append(elbo)"
   ]
  },
  {
   "cell_type": "code",
   "execution_count": 64,
   "metadata": {
    "collapsed": false
   },
   "outputs": [
    {
     "data": {
      "text/plain": [
       "[<matplotlib.lines.Line2D at 0x15679c828>]"
      ]
     },
     "execution_count": 64,
     "metadata": {},
     "output_type": "execute_result"
    },
    {
     "data": {
      "image/png": "[encoded data removed]",
      "text/plain": [
       "<matplotlib.figure.Figure at 0x1552e8e10>"
      ]
     },
     "metadata": {},
     "output_type": "display_data"
    }
   ],
   "source": [
    "plt.plot(elbo_vals)"
   ]
  },
  {
   "cell_type": "code",
   "execution_count": 65,
   "metadata": {
    "collapsed": false
   },
   "outputs": [
    {
     "data": {
      "text/plain": [
       "array([ 0.4451491 , -0.69568869, -0.72090286,  0.45658261])"
      ]
     },
     "execution_count": 65,
     "metadata": {},
     "output_type": "execute_result"
    }
   ],
   "source": [
    "sess.run(gp.bin_mu)"
   ]
  },
  {
   "cell_type": "code",
   "execution_count": 66,
   "metadata": {
    "collapsed": false
   },
   "outputs": [
    {
     "data": {
      "text/plain": [
       "array([[ 0.63414324,  0.13271647,  0.14722346,  0.3062769 ],\n",
       "       [ 0.15605637,  0.80628077, -0.02146601,  0.18284111],\n",
       "       [ 0.20201319, -0.01336031,  0.77434395,  0.07954552],\n",
       "       [ 0.30813232,  0.15338731,  0.08267271,  0.70281312]])"
      ]
     },
     "execution_count": 66,
     "metadata": {},
     "output_type": "execute_result"
    }
   ],
   "source": [
    "sess.run(gp.bin_sigma_l)"
   ]
  },
  {
   "cell_type": "markdown",
   "metadata": {},
   "source": [
    "## Prediction"
   ]
  },
  {
   "cell_type": "code",
   "execution_count": 67,
   "metadata": {
    "collapsed": true
   },
   "outputs": [],
   "source": [
    "seq_lens_te = tf.constant(np.ones([x_te.shape[0]]) * max_len)"
   ]
  },
  {
   "cell_type": "code",
   "execution_count": 68,
   "metadata": {
    "collapsed": false
   },
   "outputs": [
    {
     "name": "stdout",
     "output_type": "stream",
     "text": [
      "_latent_vars_distribution/x_flat (?, 2) = sum_len x 2\n",
      "_latent_vars_distribution/m_un_flat <unknown> = sum_len x 2\n",
      "cov_for_squared_dists/cov (2, 50, 5, 5) = [2, 50, 5, 5]\n",
      "_Knns/K_nn (2, 50, 5, 5) = 2 x 50 x 5 x 5\n"
     ]
    }
   ],
   "source": [
    "preds = gp.predict(x_te, seq_lens_te, sess)"
   ]
  },
  {
   "cell_type": "code",
   "execution_count": 69,
   "metadata": {
    "collapsed": false
   },
   "outputs": [
    {
     "data": {
      "text/plain": [
       "0.68400000000000005"
      ]
     },
     "execution_count": 69,
     "metadata": {},
     "output_type": "execute_result"
    }
   ],
   "source": [
    "np.sum(sess.run(y_te) == preds) / preds.size"
   ]
  },
  {
   "cell_type": "code",
   "execution_count": 60,
   "metadata": {
    "collapsed": true
   },
   "outputs": [],
   "source": [
    "sess.close()"
   ]
  },
  {
   "cell_type": "code",
   "execution_count": null,
   "metadata": {
    "collapsed": true
   },
   "outputs": [],
   "source": []
  }
 ],
 "metadata": {
  "kernelspec": {
   "display_name": "Python 3",
   "language": "python",
   "name": "python3"
  }
 },
 "nbformat": 4,
 "nbformat_minor": 0
}
